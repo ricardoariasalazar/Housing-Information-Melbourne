{
 "cells": [
  {
   "cell_type": "markdown",
   "metadata": {},
   "source": [
    "# Housing Information Melbourne, Australia\n",
    "Date: 18/11/2020                                            \n",
    "Version: 1.0\n",
    "\n",
    "\n",
    "## 1. Introduction\n",
    "By using a Python code we can integrate several datasets into one single schema and find and fix possible problems in the data. In this case we are going to use 7 different datasets in various formats about housing information in Victoria, Australia. \n",
    "\n",
    "\n",
    "## 2. Import libraries"
   ]
  },
  {
   "cell_type": "code",
   "execution_count": 2,
   "metadata": {},
   "outputs": [],
   "source": [
    "from urllib.request import urlopen # Import HTML Files\n",
    "from bs4 import BeautifulSoup # Parse HTML Files\n",
    "import re  # Parse HTML Files\n",
    "import pandas as pd # Data frames\n",
    "import tabula # Import PDF Files \n",
    "from sklearn.metrics.pairwise import haversine_distances # Calculate distances between coordinates\n",
    "from math import radians # Calculate distances between coordinates\n",
    "import shapefile # Read the shapefiles\n",
    "from shapely.geometry import Point # Identify if a coordinate is in a polygon\n",
    "from shapely.geometry import shape # Identify if a coordinate is in a polygon\n",
    "import datetime # Convert string to time stamp\n",
    "%matplotlib inline\n",
    "from sklearn import preprocessing #Zscore normalization\n",
    "from sklearn.linear_model import LinearRegression # Linear Regression\n",
    "import numpy as np # Linear Regression\n",
    "from matplotlib import pyplot as plt\n",
    "import math\n",
    "from sklearn.metrics import mean_squared_error, r2_score"
   ]
  },
  {
   "cell_type": "markdown",
   "metadata": {},
   "source": [
    "## 3. Data Integration\n",
    "\n",
    "### 3.1. Importing and parsing the data\n",
    "\n",
    "The first step is to import the files in diferent formats to build one data frame with all the information required. In the folder `./dataframes` we find 5 data frames that must be integrated as follows:"
   ]
  },
  {
   "cell_type": "markdown",
   "metadata": {},
   "source": [
    "### 3.1.1. Hospitals\n",
    "We must import the data frame that stores the `id`, `latitude`, `longitude` and `name` of hospitals in **HTML** format "
   ]
  },
  {
   "cell_type": "code",
   "execution_count": 3,
   "metadata": {},
   "outputs": [],
   "source": [
    "with open(\"./data/dataframes/hospitals.html\", 'r') as f:\n",
    "    html = f.read()"
   ]
  },
  {
   "cell_type": "markdown",
   "metadata": {},
   "source": [
    "Then we convert the text imported in a `BeautifulSoup` object to parse it as follows"
   ]
  },
  {
   "cell_type": "code",
   "execution_count": 4,
   "metadata": {
    "scrolled": false
   },
   "outputs": [
    {
     "data": {
      "text/html": [
       "<div>\n",
       "<style scoped>\n",
       "    .dataframe tbody tr th:only-of-type {\n",
       "        vertical-align: middle;\n",
       "    }\n",
       "\n",
       "    .dataframe tbody tr th {\n",
       "        vertical-align: top;\n",
       "    }\n",
       "\n",
       "    .dataframe thead th {\n",
       "        text-align: right;\n",
       "    }\n",
       "</style>\n",
       "<table border=\"1\" class=\"dataframe\">\n",
       "  <thead>\n",
       "    <tr style=\"text-align: right;\">\n",
       "      <th></th>\n",
       "      <th>id</th>\n",
       "      <th>lat</th>\n",
       "      <th>lng</th>\n",
       "      <th>name</th>\n",
       "    </tr>\n",
       "  </thead>\n",
       "  <tbody>\n",
       "    <tr>\n",
       "      <th>0</th>\n",
       "      <td>hospital_001</td>\n",
       "      <td>-37.990622</td>\n",
       "      <td>145.072836</td>\n",
       "      <td>Como Private Hospital</td>\n",
       "    </tr>\n",
       "    <tr>\n",
       "      <th>1</th>\n",
       "      <td>hospital_002</td>\n",
       "      <td>-37.855469</td>\n",
       "      <td>145.268183</td>\n",
       "      <td>Mountain District Private Hospital</td>\n",
       "    </tr>\n",
       "    <tr>\n",
       "      <th>2</th>\n",
       "      <td>hospital_003</td>\n",
       "      <td>-37.792230</td>\n",
       "      <td>144.889128</td>\n",
       "      <td>Western Hospital</td>\n",
       "    </tr>\n",
       "    <tr>\n",
       "      <th>3</th>\n",
       "      <td>hospital_004</td>\n",
       "      <td>-37.756042</td>\n",
       "      <td>145.061896</td>\n",
       "      <td>Mercy Hospital for Women</td>\n",
       "    </tr>\n",
       "    <tr>\n",
       "      <th>4</th>\n",
       "      <td>hospital_005</td>\n",
       "      <td>-37.760623</td>\n",
       "      <td>144.815624</td>\n",
       "      <td>Sunshine Hospital</td>\n",
       "    </tr>\n",
       "  </tbody>\n",
       "</table>\n",
       "</div>"
      ],
      "text/plain": [
       "             id        lat         lng                                name\n",
       "0  hospital_001 -37.990622  145.072836               Como Private Hospital\n",
       "1  hospital_002 -37.855469  145.268183  Mountain District Private Hospital\n",
       "2  hospital_003 -37.792230  144.889128                    Western Hospital\n",
       "3  hospital_004 -37.756042  145.061896            Mercy Hospital for Women\n",
       "4  hospital_005 -37.760623  144.815624                   Sunshine Hospital"
      ]
     },
     "execution_count": 4,
     "metadata": {},
     "output_type": "execute_result"
    }
   ],
   "source": [
    "bs_html = BeautifulSoup(html, \"html.parser\") # Convert the text to a BeautifulSoup object\n",
    "\n",
    "# Header\n",
    "bs_header = bs_html.find(\"thead\").findAll(\"th\") # With thead we get the header and with th all the objects of the header\n",
    "header = [] # Empty list to store the objects of the header\n",
    "for i in bs_header: # For every object parsed\n",
    "    header.append(i.get_text()) # Remove the <th> </th> tags\n",
    "\n",
    "header = header[1:] # Remove the first object <th> as it is empty\n",
    "\n",
    "# Body\n",
    "bs_body = bs_html.find(\"tbody\").findAll(\"tr\") # With tbody we get the body and with tr all the objects of the body\n",
    "hospital_id = [] # Empty list to store the hospital ids\n",
    "hospital_lat = [] # Empty list to store the hospital latitudes\n",
    "hospital_lng = [] # Empty list to store the hospital longitudes\n",
    "hospital_name = [] # Empty list to store the hospital names\n",
    "\n",
    "for i in bs_body: # For every hospital found in the body\n",
    "    hospital = i.findAll(\"td\") # With td we can find all the objects of a hospital  \n",
    "    \n",
    "    hospital_id.append(hospital[0].get_text()) # id is the first object of hospital\n",
    "    hospital_lat.append(float(hospital[1].get_text())) # lat is the second object of hospital is float format\n",
    "    hospital_lng.append(float(hospital[2].get_text())) # lng is the thrid object of hospital is float format\n",
    "    hospital_name.append(hospital[3].get_text()) # name is the fourth object of hospital\n",
    "\n",
    "# Build the Pandas data frame with a dictionary\n",
    "hospitals = pd.DataFrame.from_dict({'id' : hospital_id, 'lat': hospital_lat, 'lng': hospital_lng, 'name': hospital_name})\n",
    "hospitals.head(5)"
   ]
  },
  {
   "cell_type": "markdown",
   "metadata": {},
   "source": [
    "### 3.1.2. Real State \n",
    "`JSON format`  \n",
    "\n",
    "We must import the data frame that stores the `id`, `latitude`, `longitude` and `name` of properties in JSON format"
   ]
  },
  {
   "cell_type": "code",
   "execution_count": 5,
   "metadata": {},
   "outputs": [],
   "source": [
    "with open(\"./data/dataframes/real_state.json\", 'r') as f:\n",
    "    json = f.read()"
   ]
  },
  {
   "cell_type": "markdown",
   "metadata": {},
   "source": [
    "Then we parse the text imported and then convert it into a pandas data frame as follows"
   ]
  },
  {
   "cell_type": "code",
   "execution_count": 6,
   "metadata": {},
   "outputs": [
    {
     "data": {
      "text/html": [
       "<div>\n",
       "<style scoped>\n",
       "    .dataframe tbody tr th:only-of-type {\n",
       "        vertical-align: middle;\n",
       "    }\n",
       "\n",
       "    .dataframe tbody tr th {\n",
       "        vertical-align: top;\n",
       "    }\n",
       "\n",
       "    .dataframe thead th {\n",
       "        text-align: right;\n",
       "    }\n",
       "</style>\n",
       "<table border=\"1\" class=\"dataframe\">\n",
       "  <thead>\n",
       "    <tr style=\"text-align: right;\">\n",
       "      <th></th>\n",
       "      <th>property_id</th>\n",
       "      <th>lat</th>\n",
       "      <th>lng</th>\n",
       "      <th>addr_street</th>\n",
       "      <th>price</th>\n",
       "      <th>property_type</th>\n",
       "      <th>year</th>\n",
       "      <th>bedrooms</th>\n",
       "      <th>bathrooms</th>\n",
       "      <th>parking_space</th>\n",
       "    </tr>\n",
       "  </thead>\n",
       "  <tbody>\n",
       "    <tr>\n",
       "      <th>0</th>\n",
       "      <td>66416</td>\n",
       "      <td>-37.777223</td>\n",
       "      <td>145.323512</td>\n",
       "      <td>44 Struan Avenue</td>\n",
       "      <td>7245000</td>\n",
       "      <td>house</td>\n",
       "      <td>2014</td>\n",
       "      <td>5</td>\n",
       "      <td>3</td>\n",
       "      <td>2</td>\n",
       "    </tr>\n",
       "    <tr>\n",
       "      <th>1</th>\n",
       "      <td>87138</td>\n",
       "      <td>-37.915859</td>\n",
       "      <td>145.006836</td>\n",
       "      <td>802 Hampton Street</td>\n",
       "      <td>9360000</td>\n",
       "      <td>house</td>\n",
       "      <td>2008</td>\n",
       "      <td>3</td>\n",
       "      <td>2</td>\n",
       "      <td>2</td>\n",
       "    </tr>\n",
       "    <tr>\n",
       "      <th>2</th>\n",
       "      <td>22656</td>\n",
       "      <td>-37.741057</td>\n",
       "      <td>144.956240</td>\n",
       "      <td>35 Vincent Street</td>\n",
       "      <td>10880000</td>\n",
       "      <td>house</td>\n",
       "      <td>2014</td>\n",
       "      <td>2</td>\n",
       "      <td>1</td>\n",
       "      <td>1</td>\n",
       "    </tr>\n",
       "    <tr>\n",
       "      <th>3</th>\n",
       "      <td>31842</td>\n",
       "      <td>-37.736872</td>\n",
       "      <td>145.026830</td>\n",
       "      <td>13 Rita Street</td>\n",
       "      <td>5390000</td>\n",
       "      <td>house</td>\n",
       "      <td>2011</td>\n",
       "      <td>3</td>\n",
       "      <td>1</td>\n",
       "      <td>0</td>\n",
       "    </tr>\n",
       "    <tr>\n",
       "      <th>4</th>\n",
       "      <td>26528</td>\n",
       "      <td>-37.571915</td>\n",
       "      <td>144.921423</td>\n",
       "      <td>32 Cradle Mountain Drive</td>\n",
       "      <td>7748000</td>\n",
       "      <td>house</td>\n",
       "      <td>2016</td>\n",
       "      <td>4</td>\n",
       "      <td>2</td>\n",
       "      <td>2</td>\n",
       "    </tr>\n",
       "  </tbody>\n",
       "</table>\n",
       "</div>"
      ],
      "text/plain": [
       "   property_id        lat         lng               addr_street     price  \\\n",
       "0        66416 -37.777223  145.323512          44 Struan Avenue   7245000   \n",
       "1        87138 -37.915859  145.006836        802 Hampton Street   9360000   \n",
       "2        22656 -37.741057  144.956240         35 Vincent Street  10880000   \n",
       "3        31842 -37.736872  145.026830            13 Rita Street   5390000   \n",
       "4        26528 -37.571915  144.921423  32 Cradle Mountain Drive   7748000   \n",
       "\n",
       "  property_type  year  bedrooms  bathrooms  parking_space  \n",
       "0         house  2014         5          3              2  \n",
       "1         house  2008         3          2              2  \n",
       "2         house  2014         2          1              1  \n",
       "3         house  2011         3          1              0  \n",
       "4         house  2016         4          2              2  "
      ]
     },
     "execution_count": 6,
     "metadata": {},
     "output_type": "execute_result"
    }
   ],
   "source": [
    "json = eval(json) # Parse the text and convert it to python code \n",
    "real_state_json = pd.DataFrame.from_dict(json) # Convert the text to a pandas data frame\n",
    "real_state_json.head(5)"
   ]
  },
  {
   "cell_type": "markdown",
   "metadata": {},
   "source": [
    "   "
   ]
  },
  {
   "cell_type": "markdown",
   "metadata": {},
   "source": [
    "`XML format`  \n",
    "\n",
    "First, we import the data frame that stores the `id`, `latitude`, `longitude` and `name` of properties in XML format"
   ]
  },
  {
   "cell_type": "code",
   "execution_count": 7,
   "metadata": {},
   "outputs": [],
   "source": [
    "with open(\"./data/dataframes/real_state.xml\", 'r') as f:\n",
    "    xml = f.read()\n",
    "xml = xml[2:] # Remove the first two elements"
   ]
  },
  {
   "cell_type": "markdown",
   "metadata": {},
   "source": [
    "Then we convert the text imported in a `BeautifulSoup` object to parse it as follows. By taking a closer look to the information parsed, we realised that it has the same structure as the data frame `real_state_json`. Therefore, we are going to reuse the header of this data set."
   ]
  },
  {
   "cell_type": "code",
   "execution_count": 8,
   "metadata": {
    "scrolled": true
   },
   "outputs": [],
   "source": [
    "bs_xml = BeautifulSoup(xml, \"xml\") # Convert the text to a BeautifulSoup object\n",
    "property_id = [] # Empty list to store all the ids of the properties\n",
    "\n",
    "for i in bs_xml.findAll(re.compile(r\"n\\d*\")): # The id of each property is n and five numbers\n",
    "    property_id.append(i.name) # Get each property_id\n",
    "\n",
    "property_id = list(set(property_id)) # Remove duplicates \n",
    "properties = [] # Empty list to store all the dictionaries of each property\n",
    "\n",
    "for i in property_id: # For every property\n",
    "    property_ = bs_xml.findAll(i) # Find all the attibutes of the propertywith this id\n",
    "    property_dict = {} # Empty dictionary to store the properties with its attributes\n",
    "    \n",
    "    for j in range(len(property_)): # For every element of the property_ list\n",
    "        if property_[j].attrs['type'] == 'int': # If the attribute type is int\n",
    "            property_dict[list(real_state_json.columns.values)[j]] = int(property_[j].get_text()) # Reuse the header of the last task and append the value as integer\n",
    "        elif property_[j].attrs['type'] == 'float': # If the attribute type is float\n",
    "            property_dict[list(real_state_json.columns.values)[j]] = float(property_[j].get_text()) # Reuse the header of the last task and append the value as float\n",
    "        elif property_[j].attrs['type'] == 'str': # If the attribute type is str\n",
    "            property_dict[list(real_state_json.columns.values)[j]] = str(property_[j].get_text()) # Reuse the header of the last task and append the value as string\n",
    "    \n",
    "    properties.append(property_dict)"
   ]
  },
  {
   "cell_type": "markdown",
   "metadata": {},
   "source": [
    "After the file is parsed, we proceed to convert the dictionary to a Data Frame"
   ]
  },
  {
   "cell_type": "code",
   "execution_count": 9,
   "metadata": {
    "scrolled": true
   },
   "outputs": [
    {
     "data": {
      "text/html": [
       "<div>\n",
       "<style scoped>\n",
       "    .dataframe tbody tr th:only-of-type {\n",
       "        vertical-align: middle;\n",
       "    }\n",
       "\n",
       "    .dataframe tbody tr th {\n",
       "        vertical-align: top;\n",
       "    }\n",
       "\n",
       "    .dataframe thead th {\n",
       "        text-align: right;\n",
       "    }\n",
       "</style>\n",
       "<table border=\"1\" class=\"dataframe\">\n",
       "  <thead>\n",
       "    <tr style=\"text-align: right;\">\n",
       "      <th></th>\n",
       "      <th>property_id</th>\n",
       "      <th>lat</th>\n",
       "      <th>lng</th>\n",
       "      <th>addr_street</th>\n",
       "      <th>price</th>\n",
       "      <th>property_type</th>\n",
       "      <th>year</th>\n",
       "      <th>bedrooms</th>\n",
       "      <th>bathrooms</th>\n",
       "      <th>parking_space</th>\n",
       "    </tr>\n",
       "  </thead>\n",
       "  <tbody>\n",
       "    <tr>\n",
       "      <th>0</th>\n",
       "      <td>54130.0</td>\n",
       "      <td>-37.828036</td>\n",
       "      <td>145.038611</td>\n",
       "      <td>15 Marian Street</td>\n",
       "      <td>11250000.0</td>\n",
       "      <td>house</td>\n",
       "      <td>2011.0</td>\n",
       "      <td>3.0</td>\n",
       "      <td>2.0</td>\n",
       "      <td>0.0</td>\n",
       "    </tr>\n",
       "    <tr>\n",
       "      <th>1</th>\n",
       "      <td>31403.0</td>\n",
       "      <td>-37.761134</td>\n",
       "      <td>145.010090</td>\n",
       "      <td>65 Clyde Street</td>\n",
       "      <td>6810000.0</td>\n",
       "      <td>house</td>\n",
       "      <td>2011.0</td>\n",
       "      <td>2.0</td>\n",
       "      <td>1.0</td>\n",
       "      <td>1.0</td>\n",
       "    </tr>\n",
       "    <tr>\n",
       "      <th>2</th>\n",
       "      <td>75224.0</td>\n",
       "      <td>-37.903746</td>\n",
       "      <td>145.060487</td>\n",
       "      <td>5 Boake Street</td>\n",
       "      <td>12480000.0</td>\n",
       "      <td>house</td>\n",
       "      <td>2016.0</td>\n",
       "      <td>5.0</td>\n",
       "      <td>2.0</td>\n",
       "      <td>2.0</td>\n",
       "    </tr>\n",
       "    <tr>\n",
       "      <th>3</th>\n",
       "      <td>62523.0</td>\n",
       "      <td>-37.836108</td>\n",
       "      <td>145.239958</td>\n",
       "      <td>12 Ilford Road</td>\n",
       "      <td>10350000.0</td>\n",
       "      <td>house</td>\n",
       "      <td>2015.0</td>\n",
       "      <td>3.0</td>\n",
       "      <td>2.0</td>\n",
       "      <td>2.0</td>\n",
       "    </tr>\n",
       "    <tr>\n",
       "      <th>4</th>\n",
       "      <td>14675.0</td>\n",
       "      <td>-37.746868</td>\n",
       "      <td>144.922015</td>\n",
       "      <td>61 Napier Crescent</td>\n",
       "      <td>8100000.0</td>\n",
       "      <td>house</td>\n",
       "      <td>2012.0</td>\n",
       "      <td>3.0</td>\n",
       "      <td>1.0</td>\n",
       "      <td>3.0</td>\n",
       "    </tr>\n",
       "  </tbody>\n",
       "</table>\n",
       "</div>"
      ],
      "text/plain": [
       "   property_id        lat         lng         addr_street       price  \\\n",
       "0      54130.0 -37.828036  145.038611    15 Marian Street  11250000.0   \n",
       "1      31403.0 -37.761134  145.010090     65 Clyde Street   6810000.0   \n",
       "2      75224.0 -37.903746  145.060487      5 Boake Street  12480000.0   \n",
       "3      62523.0 -37.836108  145.239958      12 Ilford Road  10350000.0   \n",
       "4      14675.0 -37.746868  144.922015  61 Napier Crescent   8100000.0   \n",
       "\n",
       "  property_type    year  bedrooms  bathrooms  parking_space  \n",
       "0         house  2011.0       3.0        2.0            0.0  \n",
       "1         house  2011.0       2.0        1.0            1.0  \n",
       "2         house  2016.0       5.0        2.0            2.0  \n",
       "3         house  2015.0       3.0        2.0            2.0  \n",
       "4         house  2012.0       3.0        1.0            3.0  "
      ]
     },
     "execution_count": 9,
     "metadata": {},
     "output_type": "execute_result"
    }
   ],
   "source": [
    "real_state_xml = pd.DataFrame.from_dict(properties) # Convert the text to a pandas data frame\n",
    "real_state_xml.dropna(inplace=True) # Drop Nan Values\n",
    "real_state_xml.head(5)"
   ]
  },
  {
   "cell_type": "markdown",
   "metadata": {},
   "source": [
    "Once the data frame parsed from the `HTML` file and the data frame from `XML` file. We proceed to concatenate both dataframes into one"
   ]
  },
  {
   "cell_type": "code",
   "execution_count": 10,
   "metadata": {
    "scrolled": true
   },
   "outputs": [
    {
     "data": {
      "text/html": [
       "<div>\n",
       "<style scoped>\n",
       "    .dataframe tbody tr th:only-of-type {\n",
       "        vertical-align: middle;\n",
       "    }\n",
       "\n",
       "    .dataframe tbody tr th {\n",
       "        vertical-align: top;\n",
       "    }\n",
       "\n",
       "    .dataframe thead th {\n",
       "        text-align: right;\n",
       "    }\n",
       "</style>\n",
       "<table border=\"1\" class=\"dataframe\">\n",
       "  <thead>\n",
       "    <tr style=\"text-align: right;\">\n",
       "      <th></th>\n",
       "      <th>property_id</th>\n",
       "      <th>lat</th>\n",
       "      <th>lng</th>\n",
       "      <th>addr_street</th>\n",
       "      <th>price</th>\n",
       "      <th>property_type</th>\n",
       "      <th>year</th>\n",
       "      <th>bedrooms</th>\n",
       "      <th>bathrooms</th>\n",
       "      <th>parking_space</th>\n",
       "    </tr>\n",
       "  </thead>\n",
       "  <tbody>\n",
       "    <tr>\n",
       "      <th>0</th>\n",
       "      <td>66416.0</td>\n",
       "      <td>-37.777223</td>\n",
       "      <td>145.323512</td>\n",
       "      <td>44 Struan Avenue</td>\n",
       "      <td>7245000.0</td>\n",
       "      <td>house</td>\n",
       "      <td>2014.0</td>\n",
       "      <td>5.0</td>\n",
       "      <td>3.0</td>\n",
       "      <td>2.0</td>\n",
       "    </tr>\n",
       "    <tr>\n",
       "      <th>1</th>\n",
       "      <td>87138.0</td>\n",
       "      <td>-37.915859</td>\n",
       "      <td>145.006836</td>\n",
       "      <td>802 Hampton Street</td>\n",
       "      <td>9360000.0</td>\n",
       "      <td>house</td>\n",
       "      <td>2008.0</td>\n",
       "      <td>3.0</td>\n",
       "      <td>2.0</td>\n",
       "      <td>2.0</td>\n",
       "    </tr>\n",
       "    <tr>\n",
       "      <th>2</th>\n",
       "      <td>22656.0</td>\n",
       "      <td>-37.741057</td>\n",
       "      <td>144.956240</td>\n",
       "      <td>35 Vincent Street</td>\n",
       "      <td>10880000.0</td>\n",
       "      <td>house</td>\n",
       "      <td>2014.0</td>\n",
       "      <td>2.0</td>\n",
       "      <td>1.0</td>\n",
       "      <td>1.0</td>\n",
       "    </tr>\n",
       "    <tr>\n",
       "      <th>3</th>\n",
       "      <td>31842.0</td>\n",
       "      <td>-37.736872</td>\n",
       "      <td>145.026830</td>\n",
       "      <td>13 Rita Street</td>\n",
       "      <td>5390000.0</td>\n",
       "      <td>house</td>\n",
       "      <td>2011.0</td>\n",
       "      <td>3.0</td>\n",
       "      <td>1.0</td>\n",
       "      <td>0.0</td>\n",
       "    </tr>\n",
       "    <tr>\n",
       "      <th>4</th>\n",
       "      <td>26528.0</td>\n",
       "      <td>-37.571915</td>\n",
       "      <td>144.921423</td>\n",
       "      <td>32 Cradle Mountain Drive</td>\n",
       "      <td>7748000.0</td>\n",
       "      <td>house</td>\n",
       "      <td>2016.0</td>\n",
       "      <td>4.0</td>\n",
       "      <td>2.0</td>\n",
       "      <td>2.0</td>\n",
       "    </tr>\n",
       "  </tbody>\n",
       "</table>\n",
       "</div>"
      ],
      "text/plain": [
       "   property_id        lat         lng               addr_street       price  \\\n",
       "0      66416.0 -37.777223  145.323512          44 Struan Avenue   7245000.0   \n",
       "1      87138.0 -37.915859  145.006836        802 Hampton Street   9360000.0   \n",
       "2      22656.0 -37.741057  144.956240         35 Vincent Street  10880000.0   \n",
       "3      31842.0 -37.736872  145.026830            13 Rita Street   5390000.0   \n",
       "4      26528.0 -37.571915  144.921423  32 Cradle Mountain Drive   7748000.0   \n",
       "\n",
       "  property_type    year  bedrooms  bathrooms  parking_space  \n",
       "0         house  2014.0       5.0        3.0            2.0  \n",
       "1         house  2008.0       3.0        2.0            2.0  \n",
       "2         house  2014.0       2.0        1.0            1.0  \n",
       "3         house  2011.0       3.0        1.0            0.0  \n",
       "4         house  2016.0       4.0        2.0            2.0  "
      ]
     },
     "execution_count": 10,
     "metadata": {},
     "output_type": "execute_result"
    }
   ],
   "source": [
    "real_state = pd.concat([real_state_json, real_state_xml])\n",
    "real_state.reset_index(drop=True, inplace=True) # Reset index from 0\n",
    "real_state.head(5)"
   ]
  },
  {
   "cell_type": "markdown",
   "metadata": {},
   "source": [
    "Finally, we verify that the data frames were concatenated"
   ]
  },
  {
   "cell_type": "code",
   "execution_count": 11,
   "metadata": {
    "scrolled": false
   },
   "outputs": [
    {
     "data": {
      "text/plain": [
       "True"
      ]
     },
     "execution_count": 11,
     "metadata": {},
     "output_type": "execute_result"
    }
   ],
   "source": [
    "real_state_json.shape[0] + real_state_xml.shape[0] == real_state.shape[0]"
   ]
  },
  {
   "cell_type": "markdown",
   "metadata": {},
   "source": [
    "### 3.1.3. Supermarkets \n",
    "\n",
    "We must  import the data frame that stores the `id`, `latitude`, `longitude` and `name` of properties in EXCEL format"
   ]
  },
  {
   "cell_type": "code",
   "execution_count": 12,
   "metadata": {
    "scrolled": false
   },
   "outputs": [
    {
     "data": {
      "text/html": [
       "<div>\n",
       "<style scoped>\n",
       "    .dataframe tbody tr th:only-of-type {\n",
       "        vertical-align: middle;\n",
       "    }\n",
       "\n",
       "    .dataframe tbody tr th {\n",
       "        vertical-align: top;\n",
       "    }\n",
       "\n",
       "    .dataframe thead th {\n",
       "        text-align: right;\n",
       "    }\n",
       "</style>\n",
       "<table border=\"1\" class=\"dataframe\">\n",
       "  <thead>\n",
       "    <tr style=\"text-align: right;\">\n",
       "      <th></th>\n",
       "      <th>id</th>\n",
       "      <th>lat</th>\n",
       "      <th>lng</th>\n",
       "      <th>type</th>\n",
       "    </tr>\n",
       "  </thead>\n",
       "  <tbody>\n",
       "    <tr>\n",
       "      <th>0</th>\n",
       "      <td>S_001</td>\n",
       "      <td>-37.883978</td>\n",
       "      <td>144.735287</td>\n",
       "      <td>Woolworths</td>\n",
       "    </tr>\n",
       "    <tr>\n",
       "      <th>1</th>\n",
       "      <td>S_002</td>\n",
       "      <td>-41.161591</td>\n",
       "      <td>147.514797</td>\n",
       "      <td>Woolworths</td>\n",
       "    </tr>\n",
       "    <tr>\n",
       "      <th>2</th>\n",
       "      <td>S_003</td>\n",
       "      <td>-37.984078</td>\n",
       "      <td>145.077167</td>\n",
       "      <td>Woolworths</td>\n",
       "    </tr>\n",
       "    <tr>\n",
       "      <th>3</th>\n",
       "      <td>S_004</td>\n",
       "      <td>-37.707023</td>\n",
       "      <td>144.938740</td>\n",
       "      <td>Woolworths</td>\n",
       "    </tr>\n",
       "    <tr>\n",
       "      <th>4</th>\n",
       "      <td>S_005</td>\n",
       "      <td>-37.597670</td>\n",
       "      <td>144.938413</td>\n",
       "      <td>Woolworths</td>\n",
       "    </tr>\n",
       "  </tbody>\n",
       "</table>\n",
       "</div>"
      ],
      "text/plain": [
       "      id        lat         lng        type\n",
       "0  S_001 -37.883978  144.735287  Woolworths\n",
       "1  S_002 -41.161591  147.514797  Woolworths\n",
       "2  S_003 -37.984078  145.077167  Woolworths\n",
       "3  S_004 -37.707023  144.938740  Woolworths\n",
       "4  S_005 -37.597670  144.938413  Woolworths"
      ]
     },
     "execution_count": 12,
     "metadata": {},
     "output_type": "execute_result"
    }
   ],
   "source": [
    "supermarkets = pd.read_excel(\"./data/dataframes/supermarkets.xlsx\")\n",
    "supermarkets.drop('Unnamed: 0', axis=1, inplace=True)\n",
    "supermarkets.head(5)"
   ]
  },
  {
   "cell_type": "markdown",
   "metadata": {},
   "source": [
    "### 3.1.4. Shoping Centers\n",
    "\n",
    "We must  import the data frame that stores the `id`, `latitude`, `longitude` and `name` of properties in PDF format"
   ]
  },
  {
   "cell_type": "code",
   "execution_count": 13,
   "metadata": {
    "scrolled": true
   },
   "outputs": [
    {
     "data": {
      "text/html": [
       "<div>\n",
       "<style scoped>\n",
       "    .dataframe tbody tr th:only-of-type {\n",
       "        vertical-align: middle;\n",
       "    }\n",
       "\n",
       "    .dataframe tbody tr th {\n",
       "        vertical-align: top;\n",
       "    }\n",
       "\n",
       "    .dataframe thead th {\n",
       "        text-align: right;\n",
       "    }\n",
       "</style>\n",
       "<table border=\"1\" class=\"dataframe\">\n",
       "  <thead>\n",
       "    <tr style=\"text-align: right;\">\n",
       "      <th></th>\n",
       "      <th>sc_id</th>\n",
       "      <th>lat</th>\n",
       "      <th>lng</th>\n",
       "    </tr>\n",
       "  </thead>\n",
       "  <tbody>\n",
       "    <tr>\n",
       "      <th>0</th>\n",
       "      <td>SC_001</td>\n",
       "      <td>-37.767915</td>\n",
       "      <td>145.041790</td>\n",
       "    </tr>\n",
       "    <tr>\n",
       "      <th>1</th>\n",
       "      <td>SC_002</td>\n",
       "      <td>-37.819375</td>\n",
       "      <td>145.171472</td>\n",
       "    </tr>\n",
       "    <tr>\n",
       "      <th>2</th>\n",
       "      <td>SC_003</td>\n",
       "      <td>-37.971131</td>\n",
       "      <td>145.089065</td>\n",
       "    </tr>\n",
       "    <tr>\n",
       "      <th>3</th>\n",
       "      <td>SC_004</td>\n",
       "      <td>-35.280406</td>\n",
       "      <td>149.132550</td>\n",
       "    </tr>\n",
       "    <tr>\n",
       "      <th>4</th>\n",
       "      <td>SC_005</td>\n",
       "      <td>-37.574572</td>\n",
       "      <td>144.920451</td>\n",
       "    </tr>\n",
       "  </tbody>\n",
       "</table>\n",
       "</div>"
      ],
      "text/plain": [
       "    sc_id        lat         lng\n",
       "0  SC_001 -37.767915  145.041790\n",
       "1  SC_002 -37.819375  145.171472\n",
       "2  SC_003 -37.971131  145.089065\n",
       "3  SC_004 -35.280406  149.132550\n",
       "4  SC_005 -37.574572  144.920451"
      ]
     },
     "execution_count": 13,
     "metadata": {},
     "output_type": "execute_result"
    }
   ],
   "source": [
    "sc_read = tabula.read_pdf(\"./data/dataframes/shopingcenters.pdf\", pages='all') # Read the PDF file\n",
    "shoping_centers = sc_read[0] # Create the data frame with the first page\n",
    "\n",
    "for i in range(1, len(sc_read)): # For ever y page of the PDF file\n",
    "    shoping_centers = shoping_centers.append(sc_read[i]) # Append every page to the data frame shoping_centers\n",
    "    \n",
    "shoping_centers.drop('Unnamed: 0', axis=1, inplace=True) # Drop useless columns\n",
    "shoping_centers.reset_index(drop=True, inplace=True) # Reset index from 0\n",
    "shoping_centers.head(5)"
   ]
  },
  {
   "cell_type": "markdown",
   "metadata": {},
   "source": [
    "### 3.1.5. Melbourne Train Information\n",
    "\n",
    "#### 3.1.5.1. Trains Stations\n",
    "\n",
    "We must  import the data frame that stores the `id`, `stop_name`, `stop_short_name`, `latitude` and `longitude` of Train Stations in TXT format"
   ]
  },
  {
   "cell_type": "code",
   "execution_count": 14,
   "metadata": {
    "scrolled": false
   },
   "outputs": [
    {
     "data": {
      "text/html": [
       "<div>\n",
       "<style scoped>\n",
       "    .dataframe tbody tr th:only-of-type {\n",
       "        vertical-align: middle;\n",
       "    }\n",
       "\n",
       "    .dataframe tbody tr th {\n",
       "        vertical-align: top;\n",
       "    }\n",
       "\n",
       "    .dataframe thead th {\n",
       "        text-align: right;\n",
       "    }\n",
       "</style>\n",
       "<table border=\"1\" class=\"dataframe\">\n",
       "  <thead>\n",
       "    <tr style=\"text-align: right;\">\n",
       "      <th></th>\n",
       "      <th>stop_id</th>\n",
       "      <th>stop_name</th>\n",
       "      <th>stop_short_name</th>\n",
       "      <th>stop_lat</th>\n",
       "      <th>stop_lon</th>\n",
       "    </tr>\n",
       "  </thead>\n",
       "  <tbody>\n",
       "    <tr>\n",
       "      <th>0</th>\n",
       "      <td>15351</td>\n",
       "      <td>Sunbury Railway Station</td>\n",
       "      <td>Sunbury</td>\n",
       "      <td>-37.579091</td>\n",
       "      <td>144.727319</td>\n",
       "    </tr>\n",
       "    <tr>\n",
       "      <th>1</th>\n",
       "      <td>15353</td>\n",
       "      <td>Diggers Rest Railway Station</td>\n",
       "      <td>Diggers Rest</td>\n",
       "      <td>-37.627017</td>\n",
       "      <td>144.719922</td>\n",
       "    </tr>\n",
       "    <tr>\n",
       "      <th>2</th>\n",
       "      <td>19827</td>\n",
       "      <td>Stony Point Railway Station</td>\n",
       "      <td>Crib Point</td>\n",
       "      <td>-38.374235</td>\n",
       "      <td>145.221837</td>\n",
       "    </tr>\n",
       "    <tr>\n",
       "      <th>3</th>\n",
       "      <td>19828</td>\n",
       "      <td>Crib Point Railway Station</td>\n",
       "      <td>Crib Point</td>\n",
       "      <td>-38.366123</td>\n",
       "      <td>145.204043</td>\n",
       "    </tr>\n",
       "    <tr>\n",
       "      <th>4</th>\n",
       "      <td>19829</td>\n",
       "      <td>Morradoo Railway Station</td>\n",
       "      <td>Crib Point</td>\n",
       "      <td>-38.354033</td>\n",
       "      <td>145.189602</td>\n",
       "    </tr>\n",
       "  </tbody>\n",
       "</table>\n",
       "</div>"
      ],
      "text/plain": [
       "   stop_id                     stop_name stop_short_name   stop_lat  \\\n",
       "0    15351       Sunbury Railway Station         Sunbury -37.579091   \n",
       "1    15353  Diggers Rest Railway Station    Diggers Rest -37.627017   \n",
       "2    19827   Stony Point Railway Station      Crib Point -38.374235   \n",
       "3    19828    Crib Point Railway Station      Crib Point -38.366123   \n",
       "4    19829      Morradoo Railway Station      Crib Point -38.354033   \n",
       "\n",
       "     stop_lon  \n",
       "0  144.727319  \n",
       "1  144.719922  \n",
       "2  145.221837  \n",
       "3  145.204043  \n",
       "4  145.189602  "
      ]
     },
     "execution_count": 14,
     "metadata": {},
     "output_type": "execute_result"
    }
   ],
   "source": [
    "train_stations = pd.read_csv(\"./data/GTFS - Melbourne Train Information/stops.txt\", sep=\",\")\n",
    "train_stations.head(5)"
   ]
  },
  {
   "cell_type": "markdown",
   "metadata": {},
   "source": [
    "From this data frame we get the `stop_id` of **Flinders Street Railway Station**, that is the station of interest"
   ]
  },
  {
   "cell_type": "code",
   "execution_count": 15,
   "metadata": {},
   "outputs": [
    {
     "data": {
      "text/plain": [
       "19854"
      ]
     },
     "execution_count": 15,
     "metadata": {},
     "output_type": "execute_result"
    }
   ],
   "source": [
    "flinders_id = train_stations.loc[train_stations['stop_name'] == 'Flinders Street Railway Station', 'stop_id'].item()\n",
    "flinders_id"
   ]
  },
  {
   "cell_type": "markdown",
   "metadata": {},
   "source": [
    "#### 3.1.5.2. Calendar\n",
    "\n",
    "We must import the data frame that stores the type of services in TXT format. From this data frame we can identify which routes are available only on weekends, and remove them. As we are only interested in the `average time of travel` on weekdays.  "
   ]
  },
  {
   "cell_type": "code",
   "execution_count": 16,
   "metadata": {
    "scrolled": true
   },
   "outputs": [
    {
     "data": {
      "text/html": [
       "<div>\n",
       "<style scoped>\n",
       "    .dataframe tbody tr th:only-of-type {\n",
       "        vertical-align: middle;\n",
       "    }\n",
       "\n",
       "    .dataframe tbody tr th {\n",
       "        vertical-align: top;\n",
       "    }\n",
       "\n",
       "    .dataframe thead th {\n",
       "        text-align: right;\n",
       "    }\n",
       "</style>\n",
       "<table border=\"1\" class=\"dataframe\">\n",
       "  <thead>\n",
       "    <tr style=\"text-align: right;\">\n",
       "      <th></th>\n",
       "      <th>service_id</th>\n",
       "      <th>monday</th>\n",
       "      <th>tuesday</th>\n",
       "      <th>wednesday</th>\n",
       "      <th>thursday</th>\n",
       "      <th>friday</th>\n",
       "      <th>saturday</th>\n",
       "      <th>sunday</th>\n",
       "      <th>start_date</th>\n",
       "      <th>end_date</th>\n",
       "    </tr>\n",
       "  </thead>\n",
       "  <tbody>\n",
       "    <tr>\n",
       "      <th>0</th>\n",
       "      <td>T2</td>\n",
       "      <td>0</td>\n",
       "      <td>0</td>\n",
       "      <td>0</td>\n",
       "      <td>0</td>\n",
       "      <td>0</td>\n",
       "      <td>1</td>\n",
       "      <td>0</td>\n",
       "      <td>20151009</td>\n",
       "      <td>20151011</td>\n",
       "    </tr>\n",
       "    <tr>\n",
       "      <th>1</th>\n",
       "      <td>UJ</td>\n",
       "      <td>0</td>\n",
       "      <td>0</td>\n",
       "      <td>0</td>\n",
       "      <td>0</td>\n",
       "      <td>0</td>\n",
       "      <td>0</td>\n",
       "      <td>1</td>\n",
       "      <td>20151009</td>\n",
       "      <td>20151011</td>\n",
       "    </tr>\n",
       "    <tr>\n",
       "      <th>2</th>\n",
       "      <td>T6</td>\n",
       "      <td>0</td>\n",
       "      <td>0</td>\n",
       "      <td>0</td>\n",
       "      <td>0</td>\n",
       "      <td>1</td>\n",
       "      <td>0</td>\n",
       "      <td>0</td>\n",
       "      <td>20151009</td>\n",
       "      <td>20151011</td>\n",
       "    </tr>\n",
       "    <tr>\n",
       "      <th>3</th>\n",
       "      <td>T5</td>\n",
       "      <td>1</td>\n",
       "      <td>1</td>\n",
       "      <td>1</td>\n",
       "      <td>1</td>\n",
       "      <td>0</td>\n",
       "      <td>0</td>\n",
       "      <td>0</td>\n",
       "      <td>20151012</td>\n",
       "      <td>20151015</td>\n",
       "    </tr>\n",
       "    <tr>\n",
       "      <th>4</th>\n",
       "      <td>T2_1</td>\n",
       "      <td>0</td>\n",
       "      <td>0</td>\n",
       "      <td>0</td>\n",
       "      <td>0</td>\n",
       "      <td>0</td>\n",
       "      <td>1</td>\n",
       "      <td>0</td>\n",
       "      <td>20151016</td>\n",
       "      <td>20151018</td>\n",
       "    </tr>\n",
       "  </tbody>\n",
       "</table>\n",
       "</div>"
      ],
      "text/plain": [
       "  service_id  monday  tuesday  wednesday  thursday  friday  saturday  sunday  \\\n",
       "0         T2       0        0          0         0       0         1       0   \n",
       "1         UJ       0        0          0         0       0         0       1   \n",
       "2         T6       0        0          0         0       1         0       0   \n",
       "3         T5       1        1          1         1       0         0       0   \n",
       "4       T2_1       0        0          0         0       0         1       0   \n",
       "\n",
       "   start_date  end_date  \n",
       "0    20151009  20151011  \n",
       "1    20151009  20151011  \n",
       "2    20151009  20151011  \n",
       "3    20151012  20151015  \n",
       "4    20151016  20151018  "
      ]
     },
     "execution_count": 16,
     "metadata": {},
     "output_type": "execute_result"
    }
   ],
   "source": [
    "calendar = pd.read_csv(\"./data/GTFS - Melbourne Train Information/calendar.txt\", sep=\",\")\n",
    "calendar.head(5)"
   ]
  },
  {
   "cell_type": "markdown",
   "metadata": {},
   "source": [
    "After importing this dataframe, we proceed to get the `service_id` of the routes that are available in weekdays as we are interested in the `average time travel` to **Flinders Street** in weekdays. We perform this task with the following transformation"
   ]
  },
  {
   "cell_type": "code",
   "execution_count": 20,
   "metadata": {},
   "outputs": [],
   "source": [
    "calendar['weekdays'] = calendar[['monday', 'tuesday', 'wednesday', 'thursday', 'friday']].sum(1) # Get only the weekdays of the data frame\n",
    "service_id = list(calendar.loc[calendar['weekdays'] == 5, 'service_id']) # Get the id of the services that are available all the weekdays"
   ]
  },
  {
   "cell_type": "markdown",
   "metadata": {},
   "source": [
    "#### 3.1.5.3. Trip\n",
    "\n",
    "We must import the data frame that stores the `route_id`, `service_id`, `trip_id`, `shape_id` and some other attributes in TXT format."
   ]
  },
  {
   "cell_type": "code",
   "execution_count": 23,
   "metadata": {
    "scrolled": false
   },
   "outputs": [
    {
     "data": {
      "text/html": [
       "<div>\n",
       "<style scoped>\n",
       "    .dataframe tbody tr th:only-of-type {\n",
       "        vertical-align: middle;\n",
       "    }\n",
       "\n",
       "    .dataframe tbody tr th {\n",
       "        vertical-align: top;\n",
       "    }\n",
       "\n",
       "    .dataframe thead th {\n",
       "        text-align: right;\n",
       "    }\n",
       "</style>\n",
       "<table border=\"1\" class=\"dataframe\">\n",
       "  <thead>\n",
       "    <tr style=\"text-align: right;\">\n",
       "      <th></th>\n",
       "      <th>route_id</th>\n",
       "      <th>service_id</th>\n",
       "      <th>trip_id</th>\n",
       "      <th>shape_id</th>\n",
       "      <th>trip_headsign</th>\n",
       "      <th>direction_id</th>\n",
       "    </tr>\n",
       "  </thead>\n",
       "  <tbody>\n",
       "    <tr>\n",
       "      <th>0</th>\n",
       "      <td>2-ALM-F-mjp-1</td>\n",
       "      <td>T0</td>\n",
       "      <td>17067982.T0.2-ALM-F-mjp-1.1.H</td>\n",
       "      <td>2-ALM-F-mjp-1.1.H</td>\n",
       "      <td>City (Flinders Street)</td>\n",
       "      <td>0</td>\n",
       "    </tr>\n",
       "    <tr>\n",
       "      <th>1</th>\n",
       "      <td>2-ALM-F-mjp-1</td>\n",
       "      <td>T0</td>\n",
       "      <td>17067988.T0.2-ALM-F-mjp-1.1.H</td>\n",
       "      <td>2-ALM-F-mjp-1.1.H</td>\n",
       "      <td>City (Flinders Street)</td>\n",
       "      <td>0</td>\n",
       "    </tr>\n",
       "    <tr>\n",
       "      <th>2</th>\n",
       "      <td>2-ALM-F-mjp-1</td>\n",
       "      <td>T0</td>\n",
       "      <td>17067992.T0.2-ALM-F-mjp-1.1.H</td>\n",
       "      <td>2-ALM-F-mjp-1.1.H</td>\n",
       "      <td>City (Flinders Street)</td>\n",
       "      <td>0</td>\n",
       "    </tr>\n",
       "    <tr>\n",
       "      <th>3</th>\n",
       "      <td>2-ALM-F-mjp-1</td>\n",
       "      <td>T0</td>\n",
       "      <td>17067999.T0.2-ALM-F-mjp-1.1.H</td>\n",
       "      <td>2-ALM-F-mjp-1.1.H</td>\n",
       "      <td>City (Flinders Street)</td>\n",
       "      <td>0</td>\n",
       "    </tr>\n",
       "    <tr>\n",
       "      <th>4</th>\n",
       "      <td>2-ALM-F-mjp-1</td>\n",
       "      <td>T0</td>\n",
       "      <td>17068003.T0.2-ALM-F-mjp-1.1.H</td>\n",
       "      <td>2-ALM-F-mjp-1.1.H</td>\n",
       "      <td>City (Flinders Street)</td>\n",
       "      <td>0</td>\n",
       "    </tr>\n",
       "  </tbody>\n",
       "</table>\n",
       "</div>"
      ],
      "text/plain": [
       "        route_id service_id                        trip_id           shape_id  \\\n",
       "0  2-ALM-F-mjp-1         T0  17067982.T0.2-ALM-F-mjp-1.1.H  2-ALM-F-mjp-1.1.H   \n",
       "1  2-ALM-F-mjp-1         T0  17067988.T0.2-ALM-F-mjp-1.1.H  2-ALM-F-mjp-1.1.H   \n",
       "2  2-ALM-F-mjp-1         T0  17067992.T0.2-ALM-F-mjp-1.1.H  2-ALM-F-mjp-1.1.H   \n",
       "3  2-ALM-F-mjp-1         T0  17067999.T0.2-ALM-F-mjp-1.1.H  2-ALM-F-mjp-1.1.H   \n",
       "4  2-ALM-F-mjp-1         T0  17068003.T0.2-ALM-F-mjp-1.1.H  2-ALM-F-mjp-1.1.H   \n",
       "\n",
       "            trip_headsign  direction_id  \n",
       "0  City (Flinders Street)             0  \n",
       "1  City (Flinders Street)             0  \n",
       "2  City (Flinders Street)             0  \n",
       "3  City (Flinders Street)             0  \n",
       "4  City (Flinders Street)             0  "
      ]
     },
     "execution_count": 23,
     "metadata": {},
     "output_type": "execute_result"
    }
   ],
   "source": [
    "trips = pd.read_csv(\"./data/GTFS - Melbourne Train Information/trips.txt\", sep=\",\")\n",
    "trips.head(5)"
   ]
  },
  {
   "cell_type": "markdown",
   "metadata": {},
   "source": [
    "From this data frame we can identify the `trip_id` of the routes that are available only on weekends by using the list `service_id` from the last task. As we are only interested in the `average time of travel` on weekdays."
   ]
  },
  {
   "cell_type": "code",
   "execution_count": 24,
   "metadata": {},
   "outputs": [],
   "source": [
    "trips = trips.loc[trips['service_id'].isin(service_id)]\n",
    "trip_id = list(set(trips.trip_id))"
   ]
  },
  {
   "cell_type": "markdown",
   "metadata": {},
   "source": [
    "#### 3.1.5.4. Stop Times\n",
    "\n",
    "We must import the data frame that stores the `trip_id`, `arrival_time`, `departure_time`, `stop_id` and some other attibutes in TXT format."
   ]
  },
  {
   "cell_type": "code",
   "execution_count": 25,
   "metadata": {
    "scrolled": true
   },
   "outputs": [
    {
     "data": {
      "text/html": [
       "<div>\n",
       "<style scoped>\n",
       "    .dataframe tbody tr th:only-of-type {\n",
       "        vertical-align: middle;\n",
       "    }\n",
       "\n",
       "    .dataframe tbody tr th {\n",
       "        vertical-align: top;\n",
       "    }\n",
       "\n",
       "    .dataframe thead th {\n",
       "        text-align: right;\n",
       "    }\n",
       "</style>\n",
       "<table border=\"1\" class=\"dataframe\">\n",
       "  <thead>\n",
       "    <tr style=\"text-align: right;\">\n",
       "      <th></th>\n",
       "      <th>trip_id</th>\n",
       "      <th>arrival_time</th>\n",
       "      <th>departure_time</th>\n",
       "      <th>stop_id</th>\n",
       "      <th>stop_sequence</th>\n",
       "      <th>stop_headsign</th>\n",
       "      <th>pickup_type</th>\n",
       "      <th>drop_off_type</th>\n",
       "      <th>shape_dist_traveled</th>\n",
       "    </tr>\n",
       "  </thead>\n",
       "  <tbody>\n",
       "    <tr>\n",
       "      <th>0</th>\n",
       "      <td>17182517.T2.2-ALM-B-mjp-1.1.H</td>\n",
       "      <td>04:57:00</td>\n",
       "      <td>04:57:00</td>\n",
       "      <td>19847</td>\n",
       "      <td>1</td>\n",
       "      <td>NaN</td>\n",
       "      <td>0</td>\n",
       "      <td>0</td>\n",
       "      <td>0.000000</td>\n",
       "    </tr>\n",
       "    <tr>\n",
       "      <th>1</th>\n",
       "      <td>17182517.T2.2-ALM-B-mjp-1.1.H</td>\n",
       "      <td>04:58:00</td>\n",
       "      <td>04:58:00</td>\n",
       "      <td>19848</td>\n",
       "      <td>2</td>\n",
       "      <td>NaN</td>\n",
       "      <td>0</td>\n",
       "      <td>0</td>\n",
       "      <td>723.017818</td>\n",
       "    </tr>\n",
       "    <tr>\n",
       "      <th>2</th>\n",
       "      <td>17182517.T2.2-ALM-B-mjp-1.1.H</td>\n",
       "      <td>05:00:00</td>\n",
       "      <td>05:00:00</td>\n",
       "      <td>19849</td>\n",
       "      <td>3</td>\n",
       "      <td>NaN</td>\n",
       "      <td>0</td>\n",
       "      <td>0</td>\n",
       "      <td>1951.735072</td>\n",
       "    </tr>\n",
       "    <tr>\n",
       "      <th>3</th>\n",
       "      <td>17182517.T2.2-ALM-B-mjp-1.1.H</td>\n",
       "      <td>05:02:00</td>\n",
       "      <td>05:02:00</td>\n",
       "      <td>19850</td>\n",
       "      <td>4</td>\n",
       "      <td>NaN</td>\n",
       "      <td>0</td>\n",
       "      <td>0</td>\n",
       "      <td>2899.073349</td>\n",
       "    </tr>\n",
       "    <tr>\n",
       "      <th>4</th>\n",
       "      <td>17182517.T2.2-ALM-B-mjp-1.1.H</td>\n",
       "      <td>05:04:00</td>\n",
       "      <td>05:04:00</td>\n",
       "      <td>19851</td>\n",
       "      <td>5</td>\n",
       "      <td>NaN</td>\n",
       "      <td>0</td>\n",
       "      <td>0</td>\n",
       "      <td>3927.090952</td>\n",
       "    </tr>\n",
       "  </tbody>\n",
       "</table>\n",
       "</div>"
      ],
      "text/plain": [
       "                         trip_id arrival_time departure_time  stop_id  \\\n",
       "0  17182517.T2.2-ALM-B-mjp-1.1.H     04:57:00       04:57:00    19847   \n",
       "1  17182517.T2.2-ALM-B-mjp-1.1.H     04:58:00       04:58:00    19848   \n",
       "2  17182517.T2.2-ALM-B-mjp-1.1.H     05:00:00       05:00:00    19849   \n",
       "3  17182517.T2.2-ALM-B-mjp-1.1.H     05:02:00       05:02:00    19850   \n",
       "4  17182517.T2.2-ALM-B-mjp-1.1.H     05:04:00       05:04:00    19851   \n",
       "\n",
       "   stop_sequence  stop_headsign  pickup_type  drop_off_type  \\\n",
       "0              1            NaN            0              0   \n",
       "1              2            NaN            0              0   \n",
       "2              3            NaN            0              0   \n",
       "3              4            NaN            0              0   \n",
       "4              5            NaN            0              0   \n",
       "\n",
       "   shape_dist_traveled  \n",
       "0             0.000000  \n",
       "1           723.017818  \n",
       "2          1951.735072  \n",
       "3          2899.073349  \n",
       "4          3927.090952  "
      ]
     },
     "execution_count": 25,
     "metadata": {},
     "output_type": "execute_result"
    }
   ],
   "source": [
    "stop_times = pd.read_csv(\"./data/GTFS - Melbourne Train Information/stop_times.txt\", sep=\",\")\n",
    "stop_times.head(5)"
   ]
  },
  {
   "cell_type": "markdown",
   "metadata": {},
   "source": [
    "From this data frame we can identify the `trip_id` of the routes that are available in weekdays and between **7am-9am**. First, by filtering with the list `trip_id` from the last task that are the trips in weekdays."
   ]
  },
  {
   "cell_type": "code",
   "execution_count": 26,
   "metadata": {
    "scrolled": true
   },
   "outputs": [],
   "source": [
    "stop_times = stop_times.loc[stop_times['trip_id'].isin(trip_id)]"
   ]
  },
  {
   "cell_type": "markdown",
   "metadata": {},
   "source": [
    "Then we filter the data frame by the `departure_time`, we are interested in the trips that departure from 7am"
   ]
  },
  {
   "cell_type": "code",
   "execution_count": 27,
   "metadata": {},
   "outputs": [],
   "source": [
    "stop_times['dep_hour'] = stop_times['departure_time'].apply(lambda x: int(str(x)[:2]))\n",
    "stop_times = stop_times.loc[stop_times['dep_hour'] >= 7]"
   ]
  },
  {
   "cell_type": "markdown",
   "metadata": {},
   "source": [
    "Afterward, we filter the data by the `arrival_time`, we are interested in the trips that arrive until 9am"
   ]
  },
  {
   "cell_type": "code",
   "execution_count": 28,
   "metadata": {},
   "outputs": [],
   "source": [
    "stop_times['arr_hour'] = stop_times['arrival_time'].apply(lambda x: int(str(x)[:2]))\n",
    "stop_times = stop_times.loc[stop_times['arr_hour'] < 9]"
   ]
  },
  {
   "cell_type": "markdown",
   "metadata": {},
   "source": [
    "With all the transformations shown above we have the data frame `stop_times` that stores `trip_id`, `arrival_time`, `departure_time`, `stop_id` and some other attibutes of the trips of the **Melbourne Train** during weekdays between 7am and 9am. Finally, we have to add to this dataframe the column of `route_id` and we get the data frame `train_info` with all the information required of **Melbourne Train**"
   ]
  },
  {
   "cell_type": "markdown",
   "metadata": {},
   "source": [
    "We do this by a **left join** between `stop_times` and a data frame that tell us the `route_id` of each trip. As follows"
   ]
  },
  {
   "cell_type": "code",
   "execution_count": 29,
   "metadata": {
    "scrolled": true
   },
   "outputs": [
    {
     "data": {
      "text/html": [
       "<div>\n",
       "<style scoped>\n",
       "    .dataframe tbody tr th:only-of-type {\n",
       "        vertical-align: middle;\n",
       "    }\n",
       "\n",
       "    .dataframe tbody tr th {\n",
       "        vertical-align: top;\n",
       "    }\n",
       "\n",
       "    .dataframe thead th {\n",
       "        text-align: right;\n",
       "    }\n",
       "</style>\n",
       "<table border=\"1\" class=\"dataframe\">\n",
       "  <thead>\n",
       "    <tr style=\"text-align: right;\">\n",
       "      <th></th>\n",
       "      <th>trip_id</th>\n",
       "      <th>arrival_time</th>\n",
       "      <th>departure_time</th>\n",
       "      <th>stop_id</th>\n",
       "      <th>stop_sequence</th>\n",
       "      <th>route_id</th>\n",
       "      <th>trip_headsign</th>\n",
       "      <th>direction_id</th>\n",
       "    </tr>\n",
       "  </thead>\n",
       "  <tbody>\n",
       "    <tr>\n",
       "      <th>0</th>\n",
       "      <td>17068385.T0.2-ALM-F-mjp-1.2.H</td>\n",
       "      <td>07:00:00</td>\n",
       "      <td>07:00:00</td>\n",
       "      <td>19904</td>\n",
       "      <td>9</td>\n",
       "      <td>2-ALM-F-mjp-1</td>\n",
       "      <td>City (Flinders Street)</td>\n",
       "      <td>0</td>\n",
       "    </tr>\n",
       "    <tr>\n",
       "      <th>1</th>\n",
       "      <td>17068385.T0.2-ALM-F-mjp-1.2.H</td>\n",
       "      <td>07:02:00</td>\n",
       "      <td>07:02:00</td>\n",
       "      <td>19905</td>\n",
       "      <td>10</td>\n",
       "      <td>2-ALM-F-mjp-1</td>\n",
       "      <td>City (Flinders Street)</td>\n",
       "      <td>0</td>\n",
       "    </tr>\n",
       "    <tr>\n",
       "      <th>2</th>\n",
       "      <td>17068385.T0.2-ALM-F-mjp-1.2.H</td>\n",
       "      <td>07:04:00</td>\n",
       "      <td>07:04:00</td>\n",
       "      <td>19906</td>\n",
       "      <td>11</td>\n",
       "      <td>2-ALM-F-mjp-1</td>\n",
       "      <td>City (Flinders Street)</td>\n",
       "      <td>0</td>\n",
       "    </tr>\n",
       "    <tr>\n",
       "      <th>3</th>\n",
       "      <td>17068385.T0.2-ALM-F-mjp-1.2.H</td>\n",
       "      <td>07:07:00</td>\n",
       "      <td>07:07:00</td>\n",
       "      <td>19908</td>\n",
       "      <td>13</td>\n",
       "      <td>2-ALM-F-mjp-1</td>\n",
       "      <td>City (Flinders Street)</td>\n",
       "      <td>0</td>\n",
       "    </tr>\n",
       "    <tr>\n",
       "      <th>4</th>\n",
       "      <td>17068385.T0.2-ALM-F-mjp-1.2.H</td>\n",
       "      <td>07:10:00</td>\n",
       "      <td>07:10:00</td>\n",
       "      <td>19843</td>\n",
       "      <td>14</td>\n",
       "      <td>2-ALM-F-mjp-1</td>\n",
       "      <td>City (Flinders Street)</td>\n",
       "      <td>0</td>\n",
       "    </tr>\n",
       "  </tbody>\n",
       "</table>\n",
       "</div>"
      ],
      "text/plain": [
       "                         trip_id arrival_time departure_time  stop_id  \\\n",
       "0  17068385.T0.2-ALM-F-mjp-1.2.H     07:00:00       07:00:00    19904   \n",
       "1  17068385.T0.2-ALM-F-mjp-1.2.H     07:02:00       07:02:00    19905   \n",
       "2  17068385.T0.2-ALM-F-mjp-1.2.H     07:04:00       07:04:00    19906   \n",
       "3  17068385.T0.2-ALM-F-mjp-1.2.H     07:07:00       07:07:00    19908   \n",
       "4  17068385.T0.2-ALM-F-mjp-1.2.H     07:10:00       07:10:00    19843   \n",
       "\n",
       "   stop_sequence       route_id           trip_headsign  direction_id  \n",
       "0              9  2-ALM-F-mjp-1  City (Flinders Street)             0  \n",
       "1             10  2-ALM-F-mjp-1  City (Flinders Street)             0  \n",
       "2             11  2-ALM-F-mjp-1  City (Flinders Street)             0  \n",
       "3             13  2-ALM-F-mjp-1  City (Flinders Street)             0  \n",
       "4             14  2-ALM-F-mjp-1  City (Flinders Street)             0  "
      ]
     },
     "execution_count": 29,
     "metadata": {},
     "output_type": "execute_result"
    }
   ],
   "source": [
    "route_trip = trips[['trip_id', 'route_id', 'trip_headsign', 'direction_id']] # Create a dataframe to identify the route of each trip\n",
    "route_trip = route_trip.drop_duplicates(subset=['trip_id'], keep='first') # Remove duplicate trips\n",
    "train_info = pd.merge(stop_times, route_trip, on='trip_id', how='left') # Create a new data frame with all the information required\n",
    "train_info.drop(['stop_headsign', 'pickup_type', 'drop_off_type', 'shape_dist_traveled', 'dep_hour', 'arr_hour'], axis=1, inplace=True) # Drop useless columns\n",
    "train_info.head(5)"
   ]
  },
  {
   "cell_type": "markdown",
   "metadata": {},
   "source": [
    "### 3.1.6. Suburbs Boundary\n",
    "\n",
    "We must  import the data frame that stores the `shapes` and the `records` of the suburbs of Victoria in different formats as:\n",
    "   - `.dbf`\n",
    "   - `.shp`\n",
    "   - `.shx`\n",
    "   - `.prj`"
   ]
  },
  {
   "cell_type": "code",
   "execution_count": 30,
   "metadata": {},
   "outputs": [
    {
     "data": {
      "text/plain": [
       "<shapefile.Reader at 0x1f515444dc0>"
      ]
     },
     "execution_count": 30,
     "metadata": {},
     "output_type": "execute_result"
    }
   ],
   "source": [
    "suburbs = shapefile.Reader(\"./data/vic_suburb_boundary/VIC_LOCALITY_POLYGON_shp\") # note, no suffix, all 3 files are used\n",
    "suburbs"
   ]
  },
  {
   "cell_type": "markdown",
   "metadata": {},
   "source": [
    "### 3.2. Integrating the data\n"
   ]
  },
  {
   "cell_type": "markdown",
   "metadata": {},
   "source": [
    "First we create a new data frame called `df` that will store the final data frame with all the information required. This data set will be the one with the integration of all the data sets"
   ]
  },
  {
   "cell_type": "code",
   "execution_count": 31,
   "metadata": {
    "scrolled": true
   },
   "outputs": [],
   "source": [
    "df = real_state"
   ]
  },
  {
   "cell_type": "markdown",
   "metadata": {},
   "source": [
    "#### 3.2.1. Suburb\n",
    "\n",
    "The first task is to identify the suburb where the property is located. Before doing it, we have to create the column `suburb` with the default value: **'not available'**"
   ]
  },
  {
   "cell_type": "code",
   "execution_count": 32,
   "metadata": {},
   "outputs": [],
   "source": [
    "df['suburb'] = 'not available'"
   ]
  },
  {
   "cell_type": "markdown",
   "metadata": {},
   "source": [
    "To do this we use the library `shapefile` to import the data frame that have the information about the suburbs in Victoria, then we use `shapely` to identify if a coordinate of a property belongs to a shape of a suburb or not. We used the function **contains**, that checks if a Polygon (shape) *contains* a Point (coordinates) as follows"
   ]
  },
  {
   "cell_type": "code",
   "execution_count": 33,
   "metadata": {
    "scrolled": false
   },
   "outputs": [
    {
     "data": {
      "text/html": [
       "<div>\n",
       "<style scoped>\n",
       "    .dataframe tbody tr th:only-of-type {\n",
       "        vertical-align: middle;\n",
       "    }\n",
       "\n",
       "    .dataframe tbody tr th {\n",
       "        vertical-align: top;\n",
       "    }\n",
       "\n",
       "    .dataframe thead th {\n",
       "        text-align: right;\n",
       "    }\n",
       "</style>\n",
       "<table border=\"1\" class=\"dataframe\">\n",
       "  <thead>\n",
       "    <tr style=\"text-align: right;\">\n",
       "      <th></th>\n",
       "      <th>property_id</th>\n",
       "      <th>lat</th>\n",
       "      <th>lng</th>\n",
       "      <th>addr_street</th>\n",
       "      <th>price</th>\n",
       "      <th>property_type</th>\n",
       "      <th>year</th>\n",
       "      <th>bedrooms</th>\n",
       "      <th>bathrooms</th>\n",
       "      <th>parking_space</th>\n",
       "      <th>suburb</th>\n",
       "    </tr>\n",
       "  </thead>\n",
       "  <tbody>\n",
       "    <tr>\n",
       "      <th>0</th>\n",
       "      <td>66416.0</td>\n",
       "      <td>-37.777223</td>\n",
       "      <td>145.323512</td>\n",
       "      <td>44 Struan Avenue</td>\n",
       "      <td>7245000.0</td>\n",
       "      <td>house</td>\n",
       "      <td>2014.0</td>\n",
       "      <td>5.0</td>\n",
       "      <td>3.0</td>\n",
       "      <td>2.0</td>\n",
       "      <td>MOOROOLBARK</td>\n",
       "    </tr>\n",
       "    <tr>\n",
       "      <th>1</th>\n",
       "      <td>87138.0</td>\n",
       "      <td>-37.915859</td>\n",
       "      <td>145.006836</td>\n",
       "      <td>802 Hampton Street</td>\n",
       "      <td>9360000.0</td>\n",
       "      <td>house</td>\n",
       "      <td>2008.0</td>\n",
       "      <td>3.0</td>\n",
       "      <td>2.0</td>\n",
       "      <td>2.0</td>\n",
       "      <td>BRIGHTON</td>\n",
       "    </tr>\n",
       "    <tr>\n",
       "      <th>2</th>\n",
       "      <td>22656.0</td>\n",
       "      <td>-37.741057</td>\n",
       "      <td>144.956240</td>\n",
       "      <td>35 Vincent Street</td>\n",
       "      <td>10880000.0</td>\n",
       "      <td>house</td>\n",
       "      <td>2014.0</td>\n",
       "      <td>2.0</td>\n",
       "      <td>1.0</td>\n",
       "      <td>1.0</td>\n",
       "      <td>COBURG</td>\n",
       "    </tr>\n",
       "    <tr>\n",
       "      <th>3</th>\n",
       "      <td>31842.0</td>\n",
       "      <td>-37.736872</td>\n",
       "      <td>145.026830</td>\n",
       "      <td>13 Rita Street</td>\n",
       "      <td>5390000.0</td>\n",
       "      <td>house</td>\n",
       "      <td>2011.0</td>\n",
       "      <td>3.0</td>\n",
       "      <td>1.0</td>\n",
       "      <td>0.0</td>\n",
       "      <td>PRESTON</td>\n",
       "    </tr>\n",
       "    <tr>\n",
       "      <th>4</th>\n",
       "      <td>26528.0</td>\n",
       "      <td>-37.571915</td>\n",
       "      <td>144.921423</td>\n",
       "      <td>32 Cradle Mountain Drive</td>\n",
       "      <td>7748000.0</td>\n",
       "      <td>house</td>\n",
       "      <td>2016.0</td>\n",
       "      <td>4.0</td>\n",
       "      <td>2.0</td>\n",
       "      <td>2.0</td>\n",
       "      <td>CRAIGIEBURN</td>\n",
       "    </tr>\n",
       "  </tbody>\n",
       "</table>\n",
       "</div>"
      ],
      "text/plain": [
       "   property_id        lat         lng               addr_street       price  \\\n",
       "0      66416.0 -37.777223  145.323512          44 Struan Avenue   7245000.0   \n",
       "1      87138.0 -37.915859  145.006836        802 Hampton Street   9360000.0   \n",
       "2      22656.0 -37.741057  144.956240         35 Vincent Street  10880000.0   \n",
       "3      31842.0 -37.736872  145.026830            13 Rita Street   5390000.0   \n",
       "4      26528.0 -37.571915  144.921423  32 Cradle Mountain Drive   7748000.0   \n",
       "\n",
       "  property_type    year  bedrooms  bathrooms  parking_space       suburb  \n",
       "0         house  2014.0       5.0        3.0            2.0  MOOROOLBARK  \n",
       "1         house  2008.0       3.0        2.0            2.0     BRIGHTON  \n",
       "2         house  2014.0       2.0        1.0            1.0       COBURG  \n",
       "3         house  2011.0       3.0        1.0            0.0      PRESTON  \n",
       "4         house  2016.0       4.0        2.0            2.0  CRAIGIEBURN  "
      ]
     },
     "execution_count": 33,
     "metadata": {},
     "output_type": "execute_result"
    }
   ],
   "source": [
    "suburbs_shapes = suburbs.shapes() # Get the shapes of the suburb data frame\n",
    "suburbs_recs = suburbs.records() # Get the records of the suburb data frame\n",
    "\n",
    "# Property\n",
    "for index_df, row_df in df.iterrows(): # Iterate every row of df\n",
    "    property_coord = Point(row_df['lng'], row_df['lat']) # Get the coordinates of each property into a list as Point\n",
    "    \n",
    "    # Suburb\n",
    "    for i in range(len(suburbs_shapes)): # For every shape in the file \n",
    "        boundary = shape(suburbs_shapes[i]) # Define the shape of the suburb that we are inspecting as shape\n",
    "\n",
    "        if boundary.contains(property_coord): # Check if the coordinate is in the suburb\n",
    "            df.loc[index_df, 'suburb'] = suburbs_recs[i][6] # Get the name of the suburb of the propert\n",
    "            break # Break the loop of suburb as we already found the suburb of the property\n",
    "\n",
    "df.head(5)"
   ]
  },
  {
   "cell_type": "markdown",
   "metadata": {},
   "source": [
    "#### 3.2.2. Distances and IDs\n",
    "\n",
    "The first task is to identify which is the closest **Hospital, Supermarket, Shoping Center and Train Station** to each property and the distance to each of them. Before doing it, we have to create the following columns:\n",
    "   - `Hospital_id`\n",
    "   - `Distance_to_hospital`\n",
    "   - `Supermarket_id`\n",
    "   - `Distance_to_supermarket` \n",
    "   - `Shopping_center_id`\n",
    "   - `Distance_to_sc` \n",
    "   - `Train_station_id`  \n",
    "   - `Distance_to_train_station`\n",
    "\n",
    "With the default value shown below"
   ]
  },
  {
   "cell_type": "code",
   "execution_count": 34,
   "metadata": {},
   "outputs": [],
   "source": [
    "df['Hospital_id'] = 'not available'\n",
    "df['Distance_to_hospital'] = 0\n",
    "df['Supermarket_id'] = 'not available'\n",
    "df['Distance_to_supermarket'] = 0\n",
    "df['Shopping_center_id'] = 'not available'\n",
    "df['Distance_to_sc'] = 0\n",
    "df['Train_station_id'] = 'not available'\n",
    "df['Distance_to_train_station'] = 0"
   ]
  },
  {
   "cell_type": "markdown",
   "metadata": {},
   "source": [
    "To calculate the distance we are going to use the library `sklearn.metrics.pairwise` and the function **haversine_distance** between the coordinates of each property and each different building, trying to find the shortest distance. \n",
    "\n",
    "To do this we are going to iterate over all the properties and comparing the coordinates of it with the coordinates of each `supermarket`, `hospital`, `shoping center` and `train station`, to get the shortest distance to each of them and the id of the building as follows"
   ]
  },
  {
   "cell_type": "code",
   "execution_count": 35,
   "metadata": {
    "scrolled": true
   },
   "outputs": [
    {
     "data": {
      "text/html": [
       "<div>\n",
       "<style scoped>\n",
       "    .dataframe tbody tr th:only-of-type {\n",
       "        vertical-align: middle;\n",
       "    }\n",
       "\n",
       "    .dataframe tbody tr th {\n",
       "        vertical-align: top;\n",
       "    }\n",
       "\n",
       "    .dataframe thead th {\n",
       "        text-align: right;\n",
       "    }\n",
       "</style>\n",
       "<table border=\"1\" class=\"dataframe\">\n",
       "  <thead>\n",
       "    <tr style=\"text-align: right;\">\n",
       "      <th></th>\n",
       "      <th>property_id</th>\n",
       "      <th>lat</th>\n",
       "      <th>lng</th>\n",
       "      <th>addr_street</th>\n",
       "      <th>price</th>\n",
       "      <th>property_type</th>\n",
       "      <th>year</th>\n",
       "      <th>bedrooms</th>\n",
       "      <th>bathrooms</th>\n",
       "      <th>parking_space</th>\n",
       "      <th>suburb</th>\n",
       "      <th>Hospital_id</th>\n",
       "      <th>Distance_to_hospital</th>\n",
       "      <th>Supermarket_id</th>\n",
       "      <th>Distance_to_supermarket</th>\n",
       "      <th>Shopping_center_id</th>\n",
       "      <th>Distance_to_sc</th>\n",
       "      <th>Train_station_id</th>\n",
       "      <th>Distance_to_train_station</th>\n",
       "    </tr>\n",
       "  </thead>\n",
       "  <tbody>\n",
       "    <tr>\n",
       "      <th>0</th>\n",
       "      <td>66416.0</td>\n",
       "      <td>-37.777223</td>\n",
       "      <td>145.323512</td>\n",
       "      <td>44 Struan Avenue</td>\n",
       "      <td>7245000.0</td>\n",
       "      <td>house</td>\n",
       "      <td>2014.0</td>\n",
       "      <td>5.0</td>\n",
       "      <td>3.0</td>\n",
       "      <td>2.0</td>\n",
       "      <td>MOOROOLBARK</td>\n",
       "      <td>hospital_113</td>\n",
       "      <td>3.233</td>\n",
       "      <td>S_168</td>\n",
       "      <td>2.069</td>\n",
       "      <td>SC_084</td>\n",
       "      <td>2.284</td>\n",
       "      <td>19877</td>\n",
       "      <td>1.287</td>\n",
       "    </tr>\n",
       "    <tr>\n",
       "      <th>1</th>\n",
       "      <td>87138.0</td>\n",
       "      <td>-37.915859</td>\n",
       "      <td>145.006836</td>\n",
       "      <td>802 Hampton Street</td>\n",
       "      <td>9360000.0</td>\n",
       "      <td>house</td>\n",
       "      <td>2008.0</td>\n",
       "      <td>3.0</td>\n",
       "      <td>2.0</td>\n",
       "      <td>2.0</td>\n",
       "      <td>BRIGHTON</td>\n",
       "      <td>hospital_156</td>\n",
       "      <td>1.417</td>\n",
       "      <td>S_009</td>\n",
       "      <td>0.976</td>\n",
       "      <td>SC_046</td>\n",
       "      <td>3.818</td>\n",
       "      <td>19951</td>\n",
       "      <td>0.929</td>\n",
       "    </tr>\n",
       "    <tr>\n",
       "      <th>2</th>\n",
       "      <td>22656.0</td>\n",
       "      <td>-37.741057</td>\n",
       "      <td>144.956240</td>\n",
       "      <td>35 Vincent Street</td>\n",
       "      <td>10880000.0</td>\n",
       "      <td>house</td>\n",
       "      <td>2014.0</td>\n",
       "      <td>2.0</td>\n",
       "      <td>1.0</td>\n",
       "      <td>1.0</td>\n",
       "      <td>COBURG</td>\n",
       "      <td>hospital_084</td>\n",
       "      <td>1.464</td>\n",
       "      <td>S_172</td>\n",
       "      <td>0.794</td>\n",
       "      <td>SC_030</td>\n",
       "      <td>1.103</td>\n",
       "      <td>19965</td>\n",
       "      <td>0.641</td>\n",
       "    </tr>\n",
       "    <tr>\n",
       "      <th>3</th>\n",
       "      <td>31842.0</td>\n",
       "      <td>-37.736872</td>\n",
       "      <td>145.026830</td>\n",
       "      <td>13 Rita Street</td>\n",
       "      <td>5390000.0</td>\n",
       "      <td>house</td>\n",
       "      <td>2011.0</td>\n",
       "      <td>3.0</td>\n",
       "      <td>1.0</td>\n",
       "      <td>0.0</td>\n",
       "      <td>PRESTON</td>\n",
       "      <td>hospital_090</td>\n",
       "      <td>2.040</td>\n",
       "      <td>S_225</td>\n",
       "      <td>1.342</td>\n",
       "      <td>SC_047</td>\n",
       "      <td>0.359</td>\n",
       "      <td>20011</td>\n",
       "      <td>2.318</td>\n",
       "    </tr>\n",
       "    <tr>\n",
       "      <th>4</th>\n",
       "      <td>26528.0</td>\n",
       "      <td>-37.571915</td>\n",
       "      <td>144.921423</td>\n",
       "      <td>32 Cradle Mountain Drive</td>\n",
       "      <td>7748000.0</td>\n",
       "      <td>house</td>\n",
       "      <td>2016.0</td>\n",
       "      <td>4.0</td>\n",
       "      <td>2.0</td>\n",
       "      <td>2.0</td>\n",
       "      <td>CRAIGIEBURN</td>\n",
       "      <td>hospital_104</td>\n",
       "      <td>8.770</td>\n",
       "      <td>S_178</td>\n",
       "      <td>2.697</td>\n",
       "      <td>SC_005</td>\n",
       "      <td>0.308</td>\n",
       "      <td>40221</td>\n",
       "      <td>3.848</td>\n",
       "    </tr>\n",
       "  </tbody>\n",
       "</table>\n",
       "</div>"
      ],
      "text/plain": [
       "   property_id        lat         lng               addr_street       price  \\\n",
       "0      66416.0 -37.777223  145.323512          44 Struan Avenue   7245000.0   \n",
       "1      87138.0 -37.915859  145.006836        802 Hampton Street   9360000.0   \n",
       "2      22656.0 -37.741057  144.956240         35 Vincent Street  10880000.0   \n",
       "3      31842.0 -37.736872  145.026830            13 Rita Street   5390000.0   \n",
       "4      26528.0 -37.571915  144.921423  32 Cradle Mountain Drive   7748000.0   \n",
       "\n",
       "  property_type    year  bedrooms  bathrooms  parking_space       suburb  \\\n",
       "0         house  2014.0       5.0        3.0            2.0  MOOROOLBARK   \n",
       "1         house  2008.0       3.0        2.0            2.0     BRIGHTON   \n",
       "2         house  2014.0       2.0        1.0            1.0       COBURG   \n",
       "3         house  2011.0       3.0        1.0            0.0      PRESTON   \n",
       "4         house  2016.0       4.0        2.0            2.0  CRAIGIEBURN   \n",
       "\n",
       "    Hospital_id  Distance_to_hospital Supermarket_id  Distance_to_supermarket  \\\n",
       "0  hospital_113                 3.233          S_168                    2.069   \n",
       "1  hospital_156                 1.417          S_009                    0.976   \n",
       "2  hospital_084                 1.464          S_172                    0.794   \n",
       "3  hospital_090                 2.040          S_225                    1.342   \n",
       "4  hospital_104                 8.770          S_178                    2.697   \n",
       "\n",
       "  Shopping_center_id  Distance_to_sc Train_station_id  \\\n",
       "0             SC_084           2.284            19877   \n",
       "1             SC_046           3.818            19951   \n",
       "2             SC_030           1.103            19965   \n",
       "3             SC_047           0.359            20011   \n",
       "4             SC_005           0.308            40221   \n",
       "\n",
       "   Distance_to_train_station  \n",
       "0                      1.287  \n",
       "1                      0.929  \n",
       "2                      0.641  \n",
       "3                      2.318  \n",
       "4                      3.848  "
      ]
     },
     "execution_count": 35,
     "metadata": {},
     "output_type": "execute_result"
    }
   ],
   "source": [
    "# Property\n",
    "for index_df, row_df in df.iterrows(): # Iterate every row of df\n",
    "    property_coord = [radians(row_df['lat']), radians(row_df['lng'])] # Get the coordinates of each property into a list\n",
    "    distance_to_hospital = 1000 # Huge distance for first if statement\n",
    "    distance_to_supermarket = 1000 # Huge distance for first if statement\n",
    "    distance_to_sc = 1000 # Huge distance for first if statement\n",
    "    distance_to_train_station = 1000 # Huge distance for first if statement\n",
    "    # Hospitals\n",
    "    \n",
    "    for index_h, row_h in hospitals.iterrows(): # Iterate every row of hospital\n",
    "        hospital_coord = [radians(row_h['lat']), radians(row_h['lng'])] # Get the coordinates of each hospital into a list\n",
    "        distance = round(haversine_distances([property_coord, hospital_coord])[0][1]* 6378000/1000, 3) # Get the distance between the hospital and the property\n",
    "        \n",
    "        if distance < distance_to_hospital: # If the distance between the property and hospital is smaller than the previous one\n",
    "            distance_to_hospital = distance # Assign this distance as the new distance between property and hospital\n",
    "            hospital_id = row_h['id'] # Get the id of the hospital with the shortest distance\n",
    "            \n",
    "    # Once we iterate over all the hospitals, we store the shortest distance calculated and the id of the hospital\n",
    "    df.loc[index_df, 'Hospital_id'] = hospital_id # Change the default value with the value calculated\n",
    "    df.loc[index_df, 'Distance_to_hospital'] = distance_to_hospital # Change the default value with the value calculated\n",
    "    \n",
    "    \n",
    "    # Supermarkets\n",
    "    \n",
    "    for index_sm, row_sm in supermarkets.iterrows(): # Iterate every row of supermarket\n",
    "        supermarket_coord = [radians(row_sm['lat']), radians(row_sm['lng'])] # Get the coordinates of each supermarket into a list\n",
    "        distance = round(haversine_distances([property_coord, supermarket_coord])[0][1]* 6378000/1000, 3) # Get the distance between the supermarket and the property\n",
    "        \n",
    "        if distance < distance_to_supermarket: # If the distance between the property and supermarket is smaller than the previous one\n",
    "            distance_to_supermarket = distance # Assign this distance as the new distance between property and supermarket\n",
    "            supermarket_id = row_sm['id'] # Get the id of the supermarket with the shortest distance\n",
    "    \n",
    "    # Once we iterate over all the supermarkets, we store the shortest distance calculated and the id of the supermarket\n",
    "    df.loc[index_df, 'Supermarket_id'] = supermarket_id # Change the default value with the value calculated\n",
    "    df.loc[index_df, 'Distance_to_supermarket'] = distance_to_supermarket # Change the default value with the value calculated\n",
    "    \n",
    "    \n",
    "    # Shoping centers\n",
    "    \n",
    "    for index_sc, row_sc in shoping_centers.iterrows(): # Iterate every row of shoping_centers\n",
    "        shoping_centers_coord = [radians(row_sc['lat']), radians(row_sc['lng'])] # Get the coordinates of each shoping center into a list\n",
    "        distance = round(haversine_distances([property_coord, shoping_centers_coord])[0][1]* 6378000/1000, 3) # Get the distance between the shoping center and the property\n",
    "        \n",
    "        if distance < distance_to_sc: # If the distance between the property and shoping center is smaller than the previous one\n",
    "            distance_to_sc = distance # Assign this distance as the new distance between property and shoping center\n",
    "            shoping_center_id = row_sc['sc_id'] # Get the id of the shoping center with the shortest distance\n",
    "    \n",
    "    # Once we iterate over all the shoping centers, we store the shortest distance calculated and the id of the shoping center\n",
    "    df.loc[index_df, 'Shopping_center_id'] = shoping_center_id # Change the default value with the value calculated\n",
    "    df.loc[index_df, 'Distance_to_sc'] = distance_to_sc # Change the default value with the value calculated\n",
    "    \n",
    "    \n",
    "    \n",
    "    # Train Station\n",
    "    \n",
    "    for index_ts, row_ts in train_stations.iterrows(): # Iterate every row of train_stations\n",
    "        train_stations_coord = [radians(row_ts['stop_lat']), radians(row_ts['stop_lon'])] # Get the coordinates of each train station into a list\n",
    "        distance = round(haversine_distances([property_coord, train_stations_coord])[0][1]* 6378000/1000, 3) # Get the distance between the train station and the property\n",
    "        \n",
    "        if distance < distance_to_train_station: # If the distance between the property and train station is smaller than the previous one\n",
    "            distance_to_train_station = distance # Assign this distance as the new distance between property and train station\n",
    "            train_station_id = row_ts['stop_id'] # Get the id of the train station with the shortest distance\n",
    "    \n",
    "    # Once we iterate over all the shoping centers, we store the shortest distance calculated and the id of the shoping center\n",
    "    df.loc[index_df, 'Train_station_id'] = str(train_station_id) # Change the default value with the value calculated\n",
    "    df.loc[index_df, 'Distance_to_train_station'] = distance_to_train_station # Change the default value with the value calculated\n",
    "    \n",
    "    \n",
    "df.head(5)"
   ]
  },
  {
   "cell_type": "markdown",
   "metadata": {},
   "source": [
    "#### 3.2.3. Trips to Flinders Station\n",
    "\n",
    "The first task is to set a Boolean attribute indicating whether there is a direct trip to the **Flinders Street Station** from the closest station and the second one is to calculate the average travel time in minutes from the closest train station to\n",
    "the **Flinders Street Station**. Both tasks must be calculated on weekdays departing between 7 to 9 am.\n",
    "\n",
    "To perform these tasks we have to create the columns `Transfer_flag` and `travel_min_to_CBD` with the default values shown below."
   ]
  },
  {
   "cell_type": "code",
   "execution_count": 37,
   "metadata": {},
   "outputs": [],
   "source": [
    "df['Transfer_flag'] = -1\n",
    "df['travel_min_to_CBD'] = 0"
   ]
  },
  {
   "cell_type": "markdown",
   "metadata": {},
   "source": [
    "Then to identify if there is a direct trip to **Flinders** we are going to use the data frame `stop_times`. If a trip stops is the *closest station to the property* and then in *Flinders Street Railway Station* the value of `Transfer_flag` will be 0, otherwise will be 1. Finally, we have to calculate the `average travel time` from this station to flinders (minutes). To do this we have to get the time that takes every trip from the *closest train station* to **Flinders Street Station** and get the average of those trips, as follows"
   ]
  },
  {
   "cell_type": "code",
   "execution_count": 38,
   "metadata": {
    "scrolled": false
   },
   "outputs": [
    {
     "data": {
      "text/html": [
       "<div>\n",
       "<style scoped>\n",
       "    .dataframe tbody tr th:only-of-type {\n",
       "        vertical-align: middle;\n",
       "    }\n",
       "\n",
       "    .dataframe tbody tr th {\n",
       "        vertical-align: top;\n",
       "    }\n",
       "\n",
       "    .dataframe thead th {\n",
       "        text-align: right;\n",
       "    }\n",
       "</style>\n",
       "<table border=\"1\" class=\"dataframe\">\n",
       "  <thead>\n",
       "    <tr style=\"text-align: right;\">\n",
       "      <th></th>\n",
       "      <th>property_id</th>\n",
       "      <th>lat</th>\n",
       "      <th>lng</th>\n",
       "      <th>addr_street</th>\n",
       "      <th>price</th>\n",
       "      <th>property_type</th>\n",
       "      <th>year</th>\n",
       "      <th>bedrooms</th>\n",
       "      <th>bathrooms</th>\n",
       "      <th>parking_space</th>\n",
       "      <th>...</th>\n",
       "      <th>Hospital_id</th>\n",
       "      <th>Distance_to_hospital</th>\n",
       "      <th>Supermarket_id</th>\n",
       "      <th>Distance_to_supermarket</th>\n",
       "      <th>Shopping_center_id</th>\n",
       "      <th>Distance_to_sc</th>\n",
       "      <th>Train_station_id</th>\n",
       "      <th>Distance_to_train_station</th>\n",
       "      <th>Transfer_flag</th>\n",
       "      <th>travel_min_to_CBD</th>\n",
       "    </tr>\n",
       "  </thead>\n",
       "  <tbody>\n",
       "    <tr>\n",
       "      <th>0</th>\n",
       "      <td>66416.0</td>\n",
       "      <td>-37.777223</td>\n",
       "      <td>145.323512</td>\n",
       "      <td>44 Struan Avenue</td>\n",
       "      <td>7245000.0</td>\n",
       "      <td>house</td>\n",
       "      <td>2014.0</td>\n",
       "      <td>5.0</td>\n",
       "      <td>3.0</td>\n",
       "      <td>2.0</td>\n",
       "      <td>...</td>\n",
       "      <td>hospital_113</td>\n",
       "      <td>3.233</td>\n",
       "      <td>S_168</td>\n",
       "      <td>2.069</td>\n",
       "      <td>SC_084</td>\n",
       "      <td>2.284</td>\n",
       "      <td>19877</td>\n",
       "      <td>1.287</td>\n",
       "      <td>0</td>\n",
       "      <td>55.250</td>\n",
       "    </tr>\n",
       "    <tr>\n",
       "      <th>1</th>\n",
       "      <td>87138.0</td>\n",
       "      <td>-37.915859</td>\n",
       "      <td>145.006836</td>\n",
       "      <td>802 Hampton Street</td>\n",
       "      <td>9360000.0</td>\n",
       "      <td>house</td>\n",
       "      <td>2008.0</td>\n",
       "      <td>3.0</td>\n",
       "      <td>2.0</td>\n",
       "      <td>2.0</td>\n",
       "      <td>...</td>\n",
       "      <td>hospital_156</td>\n",
       "      <td>1.417</td>\n",
       "      <td>S_009</td>\n",
       "      <td>0.976</td>\n",
       "      <td>SC_046</td>\n",
       "      <td>3.818</td>\n",
       "      <td>19951</td>\n",
       "      <td>0.929</td>\n",
       "      <td>0</td>\n",
       "      <td>22.083</td>\n",
       "    </tr>\n",
       "    <tr>\n",
       "      <th>2</th>\n",
       "      <td>22656.0</td>\n",
       "      <td>-37.741057</td>\n",
       "      <td>144.956240</td>\n",
       "      <td>35 Vincent Street</td>\n",
       "      <td>10880000.0</td>\n",
       "      <td>house</td>\n",
       "      <td>2014.0</td>\n",
       "      <td>2.0</td>\n",
       "      <td>1.0</td>\n",
       "      <td>1.0</td>\n",
       "      <td>...</td>\n",
       "      <td>hospital_084</td>\n",
       "      <td>1.464</td>\n",
       "      <td>S_172</td>\n",
       "      <td>0.794</td>\n",
       "      <td>SC_030</td>\n",
       "      <td>1.103</td>\n",
       "      <td>19965</td>\n",
       "      <td>0.641</td>\n",
       "      <td>0</td>\n",
       "      <td>28.000</td>\n",
       "    </tr>\n",
       "    <tr>\n",
       "      <th>3</th>\n",
       "      <td>31842.0</td>\n",
       "      <td>-37.736872</td>\n",
       "      <td>145.026830</td>\n",
       "      <td>13 Rita Street</td>\n",
       "      <td>5390000.0</td>\n",
       "      <td>house</td>\n",
       "      <td>2011.0</td>\n",
       "      <td>3.0</td>\n",
       "      <td>1.0</td>\n",
       "      <td>0.0</td>\n",
       "      <td>...</td>\n",
       "      <td>hospital_090</td>\n",
       "      <td>2.040</td>\n",
       "      <td>S_225</td>\n",
       "      <td>1.342</td>\n",
       "      <td>SC_047</td>\n",
       "      <td>0.359</td>\n",
       "      <td>20011</td>\n",
       "      <td>2.318</td>\n",
       "      <td>0</td>\n",
       "      <td>29.182</td>\n",
       "    </tr>\n",
       "    <tr>\n",
       "      <th>4</th>\n",
       "      <td>26528.0</td>\n",
       "      <td>-37.571915</td>\n",
       "      <td>144.921423</td>\n",
       "      <td>32 Cradle Mountain Drive</td>\n",
       "      <td>7748000.0</td>\n",
       "      <td>house</td>\n",
       "      <td>2016.0</td>\n",
       "      <td>4.0</td>\n",
       "      <td>2.0</td>\n",
       "      <td>2.0</td>\n",
       "      <td>...</td>\n",
       "      <td>hospital_104</td>\n",
       "      <td>8.770</td>\n",
       "      <td>S_178</td>\n",
       "      <td>2.697</td>\n",
       "      <td>SC_005</td>\n",
       "      <td>0.308</td>\n",
       "      <td>40221</td>\n",
       "      <td>3.848</td>\n",
       "      <td>0</td>\n",
       "      <td>45.889</td>\n",
       "    </tr>\n",
       "  </tbody>\n",
       "</table>\n",
       "<p>5 rows × 21 columns</p>\n",
       "</div>"
      ],
      "text/plain": [
       "   property_id        lat         lng               addr_street       price  \\\n",
       "0      66416.0 -37.777223  145.323512          44 Struan Avenue   7245000.0   \n",
       "1      87138.0 -37.915859  145.006836        802 Hampton Street   9360000.0   \n",
       "2      22656.0 -37.741057  144.956240         35 Vincent Street  10880000.0   \n",
       "3      31842.0 -37.736872  145.026830            13 Rita Street   5390000.0   \n",
       "4      26528.0 -37.571915  144.921423  32 Cradle Mountain Drive   7748000.0   \n",
       "\n",
       "  property_type    year  bedrooms  bathrooms  parking_space  ...  \\\n",
       "0         house  2014.0       5.0        3.0            2.0  ...   \n",
       "1         house  2008.0       3.0        2.0            2.0  ...   \n",
       "2         house  2014.0       2.0        1.0            1.0  ...   \n",
       "3         house  2011.0       3.0        1.0            0.0  ...   \n",
       "4         house  2016.0       4.0        2.0            2.0  ...   \n",
       "\n",
       "    Hospital_id Distance_to_hospital  Supermarket_id Distance_to_supermarket  \\\n",
       "0  hospital_113                3.233           S_168                   2.069   \n",
       "1  hospital_156                1.417           S_009                   0.976   \n",
       "2  hospital_084                1.464           S_172                   0.794   \n",
       "3  hospital_090                2.040           S_225                   1.342   \n",
       "4  hospital_104                8.770           S_178                   2.697   \n",
       "\n",
       "   Shopping_center_id Distance_to_sc  Train_station_id  \\\n",
       "0              SC_084          2.284             19877   \n",
       "1              SC_046          3.818             19951   \n",
       "2              SC_030          1.103             19965   \n",
       "3              SC_047          0.359             20011   \n",
       "4              SC_005          0.308             40221   \n",
       "\n",
       "  Distance_to_train_station  Transfer_flag  travel_min_to_CBD  \n",
       "0                     1.287              0             55.250  \n",
       "1                     0.929              0             22.083  \n",
       "2                     0.641              0             28.000  \n",
       "3                     2.318              0             29.182  \n",
       "4                     3.848              0             45.889  \n",
       "\n",
       "[5 rows x 21 columns]"
      ]
     },
     "execution_count": 38,
     "metadata": {},
     "output_type": "execute_result"
    }
   ],
   "source": [
    "# Property\n",
    "for index_df, row_df in df.iterrows(): # Iterate every row of df\n",
    "    closets_train_station = row_df.Train_station_id # Get the id of the closets train stration to the property\n",
    "    trips = list(set(train_info.loc[train_info['stop_id'] == int(closets_train_station), 'trip_id'])) # Get the trip_id of the trips that stops in the closest trains station\n",
    "    trip_time = [] # Empty list to store the time of travel from the closest train station to the property to Flinders\n",
    "    \n",
    "    # Routes\n",
    "    for trip in trips: # For every trip that stops in the closest train station\n",
    "        trips_property = train_info.loc[train_info['trip_id'] == trip, ['trip_id', 'stop_id', 'stop_sequence', 'arrival_time', 'departure_time']] # Get all the information of the trip\n",
    "        property_station = trips_property.loc[trips_property['stop_id'] == int(closets_train_station), 'stop_sequence'] # Identify the stop number of the closest train station\n",
    "        flinders_station = trips_property.loc[trips_property['stop_id'] == int(flinders_id), 'stop_sequence'] # Identify the stop number of flinders station\n",
    "        \n",
    "        if flinders_station.shape[0] > 0: # If the trip stops in flinders station\n",
    "            if property_station.item() < flinders_station.item(): # If the trip goes from the closests train station to flinders\n",
    "                departure = datetime.datetime.strptime(trips_property.loc[trips_property['stop_id'] == int(closets_train_station), 'departure_time'].item(), '%H:%M:%S')\n",
    "                arrival = datetime.datetime.strptime(trips_property.loc[trips_property['stop_id'] == int(flinders_id), 'arrival_time'].item(), '%H:%M:%S')\n",
    "                travel_time = (arrival - departure)/60\n",
    "                trip_time.append(travel_time.seconds) # There is a trip  that goes directly to Flinders\n",
    "    \n",
    "    if len(trip_time) == 0:\n",
    "        df.loc[index_df, 'Transfer_flag'] = 1 # There is no direct trip from the closest station to property to Flinders\n",
    "    else:\n",
    "        df.loc[index_df, 'Transfer_flag'] = 0 # There is direct trip from the closest station to property to Flinders\n",
    "        df.loc[index_df, 'travel_min_to_CBD'] = round(sum(trip_time)/len(trip_time), 3) # Get the average time of a trip \n",
    "\n",
    "df.head(5)"
   ]
  },
  {
   "cell_type": "markdown",
   "metadata": {},
   "source": [
    "### 4. Exporting the data\n",
    "Finally, after the integration of these 7 data frames we proceed to export `df` to a .csv file"
   ]
  },
  {
   "cell_type": "code",
   "execution_count": 39,
   "metadata": {},
   "outputs": [],
   "source": [
    "df.to_csv('output.csv')"
   ]
  },
  {
   "cell_type": "markdown",
   "metadata": {},
   "source": [
    "### 5. Inspecting the data\n",
    "The first step is to inspect and analyze the data that is going to be used in the `Linear Model`. For this task we are going to use the data frame created in the last task but only the following columns: `price`, `Distance_to_sc`, `travel_min_to_CBD`, and `Distance_to_hospital`"
   ]
  },
  {
   "cell_type": "code",
   "execution_count": 45,
   "metadata": {},
   "outputs": [
    {
     "data": {
      "text/html": [
       "<div>\n",
       "<style scoped>\n",
       "    .dataframe tbody tr th:only-of-type {\n",
       "        vertical-align: middle;\n",
       "    }\n",
       "\n",
       "    .dataframe tbody tr th {\n",
       "        vertical-align: top;\n",
       "    }\n",
       "\n",
       "    .dataframe thead th {\n",
       "        text-align: right;\n",
       "    }\n",
       "</style>\n",
       "<table border=\"1\" class=\"dataframe\">\n",
       "  <thead>\n",
       "    <tr style=\"text-align: right;\">\n",
       "      <th></th>\n",
       "      <th>Distance_to_sc</th>\n",
       "      <th>travel_min_to_CBD</th>\n",
       "      <th>Distance_to_hospital</th>\n",
       "      <th>price</th>\n",
       "    </tr>\n",
       "  </thead>\n",
       "  <tbody>\n",
       "    <tr>\n",
       "      <th>0</th>\n",
       "      <td>2.284</td>\n",
       "      <td>55.250</td>\n",
       "      <td>3.233</td>\n",
       "      <td>7245000.0</td>\n",
       "    </tr>\n",
       "    <tr>\n",
       "      <th>1</th>\n",
       "      <td>3.818</td>\n",
       "      <td>22.083</td>\n",
       "      <td>1.417</td>\n",
       "      <td>9360000.0</td>\n",
       "    </tr>\n",
       "    <tr>\n",
       "      <th>2</th>\n",
       "      <td>1.103</td>\n",
       "      <td>28.000</td>\n",
       "      <td>1.464</td>\n",
       "      <td>10880000.0</td>\n",
       "    </tr>\n",
       "    <tr>\n",
       "      <th>3</th>\n",
       "      <td>0.359</td>\n",
       "      <td>29.182</td>\n",
       "      <td>2.040</td>\n",
       "      <td>5390000.0</td>\n",
       "    </tr>\n",
       "    <tr>\n",
       "      <th>4</th>\n",
       "      <td>0.308</td>\n",
       "      <td>45.889</td>\n",
       "      <td>8.770</td>\n",
       "      <td>7748000.0</td>\n",
       "    </tr>\n",
       "  </tbody>\n",
       "</table>\n",
       "</div>"
      ],
      "text/plain": [
       "   Distance_to_sc  travel_min_to_CBD  Distance_to_hospital       price\n",
       "0           2.284             55.250                 3.233   7245000.0\n",
       "1           3.818             22.083                 1.417   9360000.0\n",
       "2           1.103             28.000                 1.464  10880000.0\n",
       "3           0.359             29.182                 2.040   5390000.0\n",
       "4           0.308             45.889                 8.770   7748000.0"
      ]
     },
     "execution_count": 45,
     "metadata": {},
     "output_type": "execute_result"
    }
   ],
   "source": [
    "data = df[['Distance_to_sc', 'travel_min_to_CBD', 'Distance_to_hospital', 'price']]\n",
    "data.head(5)"
   ]
  },
  {
   "cell_type": "markdown",
   "metadata": {},
   "source": [
    "From this data frame, we realize that each column is in different unit of measure, `Distance_to_sc` and `Distance_to_hospital` are in *Kilometers* (km), `travel_min_to_CBD` is in *Minutes* (m) and `price` is in *Australian Dolars* (AUD). \n",
    "\n",
    "Besides that it can be observed that the scale of each column is different as we can see in the following graph and table."
   ]
  },
  {
   "cell_type": "code",
   "execution_count": 46,
   "metadata": {
    "scrolled": false
   },
   "outputs": [
    {
     "data": {
      "text/plain": [
       "<matplotlib.axes._subplots.AxesSubplot at 0x18a7510cb80>"
      ]
     },
     "execution_count": 46,
     "metadata": {},
     "output_type": "execute_result"
    },
    {
     "data": {
      "image/png": "[encoded data removed]",
      "text/plain": [
       "<Figure size 432x288 with 1 Axes>"
      ]
     },
     "metadata": {
      "needs_background": "light"
     },
     "output_type": "display_data"
    }
   ],
   "source": [
    "data.plot(kind='box', rot=90)"
   ]
  },
  {
   "cell_type": "code",
   "execution_count": 47,
   "metadata": {},
   "outputs": [
    {
     "data": {
      "text/html": [
       "<div>\n",
       "<style scoped>\n",
       "    .dataframe tbody tr th:only-of-type {\n",
       "        vertical-align: middle;\n",
       "    }\n",
       "\n",
       "    .dataframe tbody tr th {\n",
       "        vertical-align: top;\n",
       "    }\n",
       "\n",
       "    .dataframe thead th {\n",
       "        text-align: right;\n",
       "    }\n",
       "</style>\n",
       "<table border=\"1\" class=\"dataframe\">\n",
       "  <thead>\n",
       "    <tr style=\"text-align: right;\">\n",
       "      <th></th>\n",
       "      <th>Distance_to_sc</th>\n",
       "      <th>travel_min_to_CBD</th>\n",
       "      <th>Distance_to_hospital</th>\n",
       "      <th>price</th>\n",
       "    </tr>\n",
       "  </thead>\n",
       "  <tbody>\n",
       "    <tr>\n",
       "      <th>count</th>\n",
       "      <td>2012.000000</td>\n",
       "      <td>2012.000000</td>\n",
       "      <td>2012.000000</td>\n",
       "      <td>2.012000e+03</td>\n",
       "    </tr>\n",
       "    <tr>\n",
       "      <th>mean</th>\n",
       "      <td>2.560174</td>\n",
       "      <td>33.688387</td>\n",
       "      <td>2.287795</td>\n",
       "      <td>9.019079e+06</td>\n",
       "    </tr>\n",
       "    <tr>\n",
       "      <th>std</th>\n",
       "      <td>1.375734</td>\n",
       "      <td>12.481128</td>\n",
       "      <td>1.843484</td>\n",
       "      <td>5.652566e+06</td>\n",
       "    </tr>\n",
       "    <tr>\n",
       "      <th>min</th>\n",
       "      <td>0.110000</td>\n",
       "      <td>0.000000</td>\n",
       "      <td>0.049000</td>\n",
       "      <td>1.512000e+06</td>\n",
       "    </tr>\n",
       "    <tr>\n",
       "      <th>25%</th>\n",
       "      <td>1.483250</td>\n",
       "      <td>23.846000</td>\n",
       "      <td>1.045000</td>\n",
       "      <td>5.268750e+06</td>\n",
       "    </tr>\n",
       "    <tr>\n",
       "      <th>50%</th>\n",
       "      <td>2.279000</td>\n",
       "      <td>34.091000</td>\n",
       "      <td>1.735000</td>\n",
       "      <td>7.415000e+06</td>\n",
       "    </tr>\n",
       "    <tr>\n",
       "      <th>75%</th>\n",
       "      <td>3.470500</td>\n",
       "      <td>42.273000</td>\n",
       "      <td>2.885250</td>\n",
       "      <td>1.104250e+07</td>\n",
       "    </tr>\n",
       "    <tr>\n",
       "      <th>max</th>\n",
       "      <td>5.944000</td>\n",
       "      <td>61.000000</td>\n",
       "      <td>9.368000</td>\n",
       "      <td>4.420000e+07</td>\n",
       "    </tr>\n",
       "  </tbody>\n",
       "</table>\n",
       "</div>"
      ],
      "text/plain": [
       "       Distance_to_sc  travel_min_to_CBD  Distance_to_hospital         price\n",
       "count     2012.000000        2012.000000           2012.000000  2.012000e+03\n",
       "mean         2.560174          33.688387              2.287795  9.019079e+06\n",
       "std          1.375734          12.481128              1.843484  5.652566e+06\n",
       "min          0.110000           0.000000              0.049000  1.512000e+06\n",
       "25%          1.483250          23.846000              1.045000  5.268750e+06\n",
       "50%          2.279000          34.091000              1.735000  7.415000e+06\n",
       "75%          3.470500          42.273000              2.885250  1.104250e+07\n",
       "max          5.944000          61.000000              9.368000  4.420000e+07"
      ]
     },
     "execution_count": 47,
     "metadata": {},
     "output_type": "execute_result"
    }
   ],
   "source": [
    "data.describe()"
   ]
  },
  {
   "cell_type": "markdown",
   "metadata": {},
   "source": [
    "The columns price is way bigger than the other columns"
   ]
  },
  {
   "cell_type": "code",
   "execution_count": 48,
   "metadata": {},
   "outputs": [
    {
     "name": "stdout",
     "output_type": "stream",
     "text": [
      "Price is 3522838.0 times bigger than Distance_to_sc\n",
      "Price is 3942259.0 times bigger than Distance_to_hospital\n",
      "Price is 267721.0 times bigger than travel_min_to_CBD\n"
     ]
    }
   ],
   "source": [
    "print('Price is', round(data.price.mean()/data.Distance_to_sc.mean(), 0), 'times bigger than Distance_to_sc')\n",
    "print('Price is', round(data.price.mean()/data.Distance_to_hospital.mean(), 0), 'times bigger than Distance_to_hospital')\n",
    "print('Price is', round(data.price.mean()/data.travel_min_to_CBD.mean(), 0), 'times bigger than travel_min_to_CBD')"
   ]
  },
  {
   "cell_type": "markdown",
   "metadata": {},
   "source": [
    "Therefore, we take a closer look to the other three columns: `Distance_to_sc`, `travel_min_to_CBD`, `Distance_to_hospital`"
   ]
  },
  {
   "cell_type": "code",
   "execution_count": 49,
   "metadata": {},
   "outputs": [
    {
     "data": {
      "text/plain": [
       "<matplotlib.axes._subplots.AxesSubplot at 0x18a7515dcd0>"
      ]
     },
     "execution_count": 49,
     "metadata": {},
     "output_type": "execute_result"
    },
    {
     "data": {
      "image/png": "[encoded data removed]",
      "text/plain": [
       "<Figure size 432x288 with 1 Axes>"
      ]
     },
     "metadata": {
      "needs_background": "light"
     },
     "output_type": "display_data"
    }
   ],
   "source": [
    "df[['Distance_to_sc', 'travel_min_to_CBD', 'Distance_to_hospital']].plot(kind='box', rot=90)"
   ]
  },
  {
   "cell_type": "markdown",
   "metadata": {},
   "source": [
    "To realize that travel_min_to_CBD is also bigger than the other two columns"
   ]
  },
  {
   "cell_type": "code",
   "execution_count": 50,
   "metadata": {},
   "outputs": [
    {
     "name": "stdout",
     "output_type": "stream",
     "text": [
      "travel_min_to_CBD is 13.0 times bigger than Distance_to_sc\n",
      "travel_min_to_CBD is 15.0 times bigger than Distance_to_hospital\n"
     ]
    }
   ],
   "source": [
    "print('travel_min_to_CBD is', round(data.travel_min_to_CBD.mean()/data.Distance_to_sc.mean(), 0), 'times bigger than Distance_to_sc')\n",
    "print('travel_min_to_CBD is', round(data.travel_min_to_CBD.mean()/data.Distance_to_hospital.mean(), 0), 'times bigger than Distance_to_hospital')"
   ]
  },
  {
   "cell_type": "markdown",
   "metadata": {},
   "source": [
    "We have 4 columns to create our `Linear Model` and only two of them *(Distance_to_hospital, Distance_to_sc)*, have the same scale and same unit measure. That is why we require to transform and reshape all the columns to get better results"
   ]
  },
  {
   "cell_type": "markdown",
   "metadata": {},
   "source": [
    "### 6. Reshaping of the data\n",
    "Now that we are aware that the data is in diferent scales and units we must reshape the data to make it useful to our model.\n",
    "There are so many methods of reshaping, but we are going to use two of them: `MinMax` and `Z-Score` Normalisation to reshape each column, and then get the best fit into the model"
   ]
  },
  {
   "cell_type": "markdown",
   "metadata": {},
   "source": [
    "#### 6.1. Z-Score Normalisation\n",
    "To do this reshape we are going to use `Scikit-Learn` library and the function `StandardScaler` for standardise data (mean=0, SD=1) as follows\n"
   ]
  },
  {
   "cell_type": "code",
   "execution_count": 51,
   "metadata": {
    "scrolled": true
   },
   "outputs": [
    {
     "data": {
      "text/plain": [
       "array([[-0.20079695,  1.72796673,  0.51285507, -0.31393171],\n",
       "       [ 0.91452169, -0.930066  , -0.47248096,  0.06032764],\n",
       "       [-1.05946143, -0.45587238, -0.44697943,  0.3292989 ],\n",
       "       [-1.60039824, -0.36114586, -0.13444993, -0.64218282],\n",
       "       [-1.63747858,  0.97776791,  3.51715334, -0.22492346]])"
      ]
     },
     "execution_count": 51,
     "metadata": {},
     "output_type": "execute_result"
    }
   ],
   "source": [
    "zscore = preprocessing.StandardScaler().fit(data[['Distance_to_sc', 'travel_min_to_CBD', 'Distance_to_hospital', 'price']])\n",
    "data_std = zscore.transform(df[['Distance_to_sc', 'travel_min_to_CBD', 'Distance_to_hospital', 'price']]) # an array not a df\n",
    "data_std[0:5]"
   ]
  },
  {
   "cell_type": "markdown",
   "metadata": {},
   "source": [
    "With the transformation we proceed to store the results in the `data` data frame "
   ]
  },
  {
   "cell_type": "code",
   "execution_count": 52,
   "metadata": {
    "scrolled": true
   },
   "outputs": [
    {
     "name": "stderr",
     "output_type": "stream",
     "text": [
      "<ipython-input-52-7605c87fc5c1>:1: SettingWithCopyWarning: \n",
      "A value is trying to be set on a copy of a slice from a DataFrame.\n",
      "Try using .loc[row_indexer,col_indexer] = value instead\n",
      "\n",
      "See the caveats in the documentation: https://pandas.pydata.org/pandas-docs/stable/user_guide/indexing.html#returning-a-view-versus-a-copy\n",
      "  data['Dis_sc_zscore'] = data_std[:,0] # Distance_to_sc scaled by Zscore\n",
      "<ipython-input-52-7605c87fc5c1>:2: SettingWithCopyWarning: \n",
      "A value is trying to be set on a copy of a slice from a DataFrame.\n",
      "Try using .loc[row_indexer,col_indexer] = value instead\n",
      "\n",
      "See the caveats in the documentation: https://pandas.pydata.org/pandas-docs/stable/user_guide/indexing.html#returning-a-view-versus-a-copy\n",
      "  data['travel_CBD_zscore'] = data_std[:,1] # travel_min_to_CBD scaled by Zscore\n",
      "<ipython-input-52-7605c87fc5c1>:3: SettingWithCopyWarning: \n",
      "A value is trying to be set on a copy of a slice from a DataFrame.\n",
      "Try using .loc[row_indexer,col_indexer] = value instead\n",
      "\n",
      "See the caveats in the documentation: https://pandas.pydata.org/pandas-docs/stable/user_guide/indexing.html#returning-a-view-versus-a-copy\n",
      "  data['Dis_hos_zscore'] = data_std[:,2] # Distance_to_hospital scaled by Zscore\n",
      "<ipython-input-52-7605c87fc5c1>:4: SettingWithCopyWarning: \n",
      "A value is trying to be set on a copy of a slice from a DataFrame.\n",
      "Try using .loc[row_indexer,col_indexer] = value instead\n",
      "\n",
      "See the caveats in the documentation: https://pandas.pydata.org/pandas-docs/stable/user_guide/indexing.html#returning-a-view-versus-a-copy\n",
      "  data['price_zscore'] = data_std[:,3] # price scaled by Zscore\n"
     ]
    },
    {
     "data": {
      "text/html": [
       "<div>\n",
       "<style scoped>\n",
       "    .dataframe tbody tr th:only-of-type {\n",
       "        vertical-align: middle;\n",
       "    }\n",
       "\n",
       "    .dataframe tbody tr th {\n",
       "        vertical-align: top;\n",
       "    }\n",
       "\n",
       "    .dataframe thead th {\n",
       "        text-align: right;\n",
       "    }\n",
       "</style>\n",
       "<table border=\"1\" class=\"dataframe\">\n",
       "  <thead>\n",
       "    <tr style=\"text-align: right;\">\n",
       "      <th></th>\n",
       "      <th>Distance_to_sc</th>\n",
       "      <th>travel_min_to_CBD</th>\n",
       "      <th>Distance_to_hospital</th>\n",
       "      <th>price</th>\n",
       "      <th>Dis_sc_zscore</th>\n",
       "      <th>travel_CBD_zscore</th>\n",
       "      <th>Dis_hos_zscore</th>\n",
       "      <th>price_zscore</th>\n",
       "    </tr>\n",
       "  </thead>\n",
       "  <tbody>\n",
       "    <tr>\n",
       "      <th>0</th>\n",
       "      <td>2.284</td>\n",
       "      <td>55.250</td>\n",
       "      <td>3.233</td>\n",
       "      <td>7245000.0</td>\n",
       "      <td>-0.200797</td>\n",
       "      <td>1.727967</td>\n",
       "      <td>0.512855</td>\n",
       "      <td>-0.313932</td>\n",
       "    </tr>\n",
       "    <tr>\n",
       "      <th>1</th>\n",
       "      <td>3.818</td>\n",
       "      <td>22.083</td>\n",
       "      <td>1.417</td>\n",
       "      <td>9360000.0</td>\n",
       "      <td>0.914522</td>\n",
       "      <td>-0.930066</td>\n",
       "      <td>-0.472481</td>\n",
       "      <td>0.060328</td>\n",
       "    </tr>\n",
       "    <tr>\n",
       "      <th>2</th>\n",
       "      <td>1.103</td>\n",
       "      <td>28.000</td>\n",
       "      <td>1.464</td>\n",
       "      <td>10880000.0</td>\n",
       "      <td>-1.059461</td>\n",
       "      <td>-0.455872</td>\n",
       "      <td>-0.446979</td>\n",
       "      <td>0.329299</td>\n",
       "    </tr>\n",
       "    <tr>\n",
       "      <th>3</th>\n",
       "      <td>0.359</td>\n",
       "      <td>29.182</td>\n",
       "      <td>2.040</td>\n",
       "      <td>5390000.0</td>\n",
       "      <td>-1.600398</td>\n",
       "      <td>-0.361146</td>\n",
       "      <td>-0.134450</td>\n",
       "      <td>-0.642183</td>\n",
       "    </tr>\n",
       "    <tr>\n",
       "      <th>4</th>\n",
       "      <td>0.308</td>\n",
       "      <td>45.889</td>\n",
       "      <td>8.770</td>\n",
       "      <td>7748000.0</td>\n",
       "      <td>-1.637479</td>\n",
       "      <td>0.977768</td>\n",
       "      <td>3.517153</td>\n",
       "      <td>-0.224923</td>\n",
       "    </tr>\n",
       "  </tbody>\n",
       "</table>\n",
       "</div>"
      ],
      "text/plain": [
       "   Distance_to_sc  travel_min_to_CBD  Distance_to_hospital       price  \\\n",
       "0           2.284             55.250                 3.233   7245000.0   \n",
       "1           3.818             22.083                 1.417   9360000.0   \n",
       "2           1.103             28.000                 1.464  10880000.0   \n",
       "3           0.359             29.182                 2.040   5390000.0   \n",
       "4           0.308             45.889                 8.770   7748000.0   \n",
       "\n",
       "   Dis_sc_zscore  travel_CBD_zscore  Dis_hos_zscore  price_zscore  \n",
       "0      -0.200797           1.727967        0.512855     -0.313932  \n",
       "1       0.914522          -0.930066       -0.472481      0.060328  \n",
       "2      -1.059461          -0.455872       -0.446979      0.329299  \n",
       "3      -1.600398          -0.361146       -0.134450     -0.642183  \n",
       "4      -1.637479           0.977768        3.517153     -0.224923  "
      ]
     },
     "execution_count": 52,
     "metadata": {},
     "output_type": "execute_result"
    }
   ],
   "source": [
    "data['Dis_sc_zscore'] = data_std[:,0] # Distance_to_sc scaled by Zscore\n",
    "data['travel_CBD_zscore'] = data_std[:,1] # travel_min_to_CBD scaled by Zscore\n",
    "data['Dis_hos_zscore'] = data_std[:,2] # Distance_to_hospital scaled by Zscore\n",
    "data['price_zscore'] = data_std[:,3] # price scaled by Zscore\n",
    "data.head()"
   ]
  },
  {
   "cell_type": "markdown",
   "metadata": {},
   "source": [
    "#### 6.2 MinMax Normalisation\n",
    "To do this transformation we are going to use `Scikit-Learn` library and the function `MinMaxScaler` for standardise data as follows"
   ]
  },
  {
   "cell_type": "code",
   "execution_count": 53,
   "metadata": {
    "scrolled": true
   },
   "outputs": [
    {
     "data": {
      "text/plain": [
       "array([[0.37264313, 0.9057377 , 0.34166756, 0.13430004],\n",
       "       [0.6355845 , 0.36201639, 0.14679687, 0.18384558],\n",
       "       [0.17020912, 0.45901639, 0.15184033, 0.21945277],\n",
       "       [0.04268084, 0.47839344, 0.21364953, 0.0908452 ],\n",
       "       [0.03393898, 0.75227869, 0.93583002, 0.14608321]])"
      ]
     },
     "execution_count": 53,
     "metadata": {},
     "output_type": "execute_result"
    }
   ],
   "source": [
    "minmax = preprocessing.MinMaxScaler().fit(data[['Distance_to_sc', 'travel_min_to_CBD', 'Distance_to_hospital', 'price']])\n",
    "data_minmax = minmax.transform(df[['Distance_to_sc', 'travel_min_to_CBD', 'Distance_to_hospital', 'price']]) # an array not a df\n",
    "data_minmax[0:5]"
   ]
  },
  {
   "cell_type": "markdown",
   "metadata": {},
   "source": [
    "With the transformation we proceed to store the results in the `data` data frame "
   ]
  },
  {
   "cell_type": "code",
   "execution_count": 54,
   "metadata": {
    "scrolled": false
   },
   "outputs": [
    {
     "name": "stderr",
     "output_type": "stream",
     "text": [
      "<ipython-input-54-531215b4b94e>:1: SettingWithCopyWarning: \n",
      "A value is trying to be set on a copy of a slice from a DataFrame.\n",
      "Try using .loc[row_indexer,col_indexer] = value instead\n",
      "\n",
      "See the caveats in the documentation: https://pandas.pydata.org/pandas-docs/stable/user_guide/indexing.html#returning-a-view-versus-a-copy\n",
      "  data['Dis_sc_minmax'] = data_minmax[:,0] # Distance_to_sc scaled by Zscore\n",
      "<ipython-input-54-531215b4b94e>:2: SettingWithCopyWarning: \n",
      "A value is trying to be set on a copy of a slice from a DataFrame.\n",
      "Try using .loc[row_indexer,col_indexer] = value instead\n",
      "\n",
      "See the caveats in the documentation: https://pandas.pydata.org/pandas-docs/stable/user_guide/indexing.html#returning-a-view-versus-a-copy\n",
      "  data['travel_CBD_minmax'] = data_minmax[:,1] # travel_min_to_CBD scaled by Zscore\n",
      "<ipython-input-54-531215b4b94e>:3: SettingWithCopyWarning: \n",
      "A value is trying to be set on a copy of a slice from a DataFrame.\n",
      "Try using .loc[row_indexer,col_indexer] = value instead\n",
      "\n",
      "See the caveats in the documentation: https://pandas.pydata.org/pandas-docs/stable/user_guide/indexing.html#returning-a-view-versus-a-copy\n",
      "  data['Dis_hos_minmax'] = data_minmax[:,2] # Distance_to_hospital scaled by Zscore\n",
      "<ipython-input-54-531215b4b94e>:4: SettingWithCopyWarning: \n",
      "A value is trying to be set on a copy of a slice from a DataFrame.\n",
      "Try using .loc[row_indexer,col_indexer] = value instead\n",
      "\n",
      "See the caveats in the documentation: https://pandas.pydata.org/pandas-docs/stable/user_guide/indexing.html#returning-a-view-versus-a-copy\n",
      "  data['price_minmax'] = data_minmax[:,3] # price scaled by Zscore\n"
     ]
    },
    {
     "data": {
      "text/html": [
       "<div>\n",
       "<style scoped>\n",
       "    .dataframe tbody tr th:only-of-type {\n",
       "        vertical-align: middle;\n",
       "    }\n",
       "\n",
       "    .dataframe tbody tr th {\n",
       "        vertical-align: top;\n",
       "    }\n",
       "\n",
       "    .dataframe thead th {\n",
       "        text-align: right;\n",
       "    }\n",
       "</style>\n",
       "<table border=\"1\" class=\"dataframe\">\n",
       "  <thead>\n",
       "    <tr style=\"text-align: right;\">\n",
       "      <th></th>\n",
       "      <th>Distance_to_sc</th>\n",
       "      <th>travel_min_to_CBD</th>\n",
       "      <th>Distance_to_hospital</th>\n",
       "      <th>price</th>\n",
       "      <th>Dis_sc_zscore</th>\n",
       "      <th>travel_CBD_zscore</th>\n",
       "      <th>Dis_hos_zscore</th>\n",
       "      <th>price_zscore</th>\n",
       "      <th>Dis_sc_minmax</th>\n",
       "      <th>travel_CBD_minmax</th>\n",
       "      <th>Dis_hos_minmax</th>\n",
       "      <th>price_minmax</th>\n",
       "    </tr>\n",
       "  </thead>\n",
       "  <tbody>\n",
       "    <tr>\n",
       "      <th>0</th>\n",
       "      <td>2.284</td>\n",
       "      <td>55.250</td>\n",
       "      <td>3.233</td>\n",
       "      <td>7245000.0</td>\n",
       "      <td>-0.200797</td>\n",
       "      <td>1.727967</td>\n",
       "      <td>0.512855</td>\n",
       "      <td>-0.313932</td>\n",
       "      <td>0.372643</td>\n",
       "      <td>0.905738</td>\n",
       "      <td>0.341668</td>\n",
       "      <td>0.134300</td>\n",
       "    </tr>\n",
       "    <tr>\n",
       "      <th>1</th>\n",
       "      <td>3.818</td>\n",
       "      <td>22.083</td>\n",
       "      <td>1.417</td>\n",
       "      <td>9360000.0</td>\n",
       "      <td>0.914522</td>\n",
       "      <td>-0.930066</td>\n",
       "      <td>-0.472481</td>\n",
       "      <td>0.060328</td>\n",
       "      <td>0.635585</td>\n",
       "      <td>0.362016</td>\n",
       "      <td>0.146797</td>\n",
       "      <td>0.183846</td>\n",
       "    </tr>\n",
       "    <tr>\n",
       "      <th>2</th>\n",
       "      <td>1.103</td>\n",
       "      <td>28.000</td>\n",
       "      <td>1.464</td>\n",
       "      <td>10880000.0</td>\n",
       "      <td>-1.059461</td>\n",
       "      <td>-0.455872</td>\n",
       "      <td>-0.446979</td>\n",
       "      <td>0.329299</td>\n",
       "      <td>0.170209</td>\n",
       "      <td>0.459016</td>\n",
       "      <td>0.151840</td>\n",
       "      <td>0.219453</td>\n",
       "    </tr>\n",
       "    <tr>\n",
       "      <th>3</th>\n",
       "      <td>0.359</td>\n",
       "      <td>29.182</td>\n",
       "      <td>2.040</td>\n",
       "      <td>5390000.0</td>\n",
       "      <td>-1.600398</td>\n",
       "      <td>-0.361146</td>\n",
       "      <td>-0.134450</td>\n",
       "      <td>-0.642183</td>\n",
       "      <td>0.042681</td>\n",
       "      <td>0.478393</td>\n",
       "      <td>0.213650</td>\n",
       "      <td>0.090845</td>\n",
       "    </tr>\n",
       "    <tr>\n",
       "      <th>4</th>\n",
       "      <td>0.308</td>\n",
       "      <td>45.889</td>\n",
       "      <td>8.770</td>\n",
       "      <td>7748000.0</td>\n",
       "      <td>-1.637479</td>\n",
       "      <td>0.977768</td>\n",
       "      <td>3.517153</td>\n",
       "      <td>-0.224923</td>\n",
       "      <td>0.033939</td>\n",
       "      <td>0.752279</td>\n",
       "      <td>0.935830</td>\n",
       "      <td>0.146083</td>\n",
       "    </tr>\n",
       "  </tbody>\n",
       "</table>\n",
       "</div>"
      ],
      "text/plain": [
       "   Distance_to_sc  travel_min_to_CBD  Distance_to_hospital       price  \\\n",
       "0           2.284             55.250                 3.233   7245000.0   \n",
       "1           3.818             22.083                 1.417   9360000.0   \n",
       "2           1.103             28.000                 1.464  10880000.0   \n",
       "3           0.359             29.182                 2.040   5390000.0   \n",
       "4           0.308             45.889                 8.770   7748000.0   \n",
       "\n",
       "   Dis_sc_zscore  travel_CBD_zscore  Dis_hos_zscore  price_zscore  \\\n",
       "0      -0.200797           1.727967        0.512855     -0.313932   \n",
       "1       0.914522          -0.930066       -0.472481      0.060328   \n",
       "2      -1.059461          -0.455872       -0.446979      0.329299   \n",
       "3      -1.600398          -0.361146       -0.134450     -0.642183   \n",
       "4      -1.637479           0.977768        3.517153     -0.224923   \n",
       "\n",
       "   Dis_sc_minmax  travel_CBD_minmax  Dis_hos_minmax  price_minmax  \n",
       "0       0.372643           0.905738        0.341668      0.134300  \n",
       "1       0.635585           0.362016        0.146797      0.183846  \n",
       "2       0.170209           0.459016        0.151840      0.219453  \n",
       "3       0.042681           0.478393        0.213650      0.090845  \n",
       "4       0.033939           0.752279        0.935830      0.146083  "
      ]
     },
     "execution_count": 54,
     "metadata": {},
     "output_type": "execute_result"
    }
   ],
   "source": [
    "data['Dis_sc_minmax'] = data_minmax[:,0] # Distance_to_sc scaled by Zscore\n",
    "data['travel_CBD_minmax'] = data_minmax[:,1] # travel_min_to_CBD scaled by Zscore\n",
    "data['Dis_hos_minmax'] = data_minmax[:,2] # Distance_to_hospital scaled by Zscore\n",
    "data['price_minmax'] = data_minmax[:,3] # price scaled by Zscore\n",
    "data.head()"
   ]
  },
  {
   "cell_type": "markdown",
   "metadata": {},
   "source": [
    "#### 6.3 Visualization\n",
    "And now we observe the reshaping in the following graph"
   ]
  },
  {
   "cell_type": "code",
   "execution_count": 55,
   "metadata": {
    "scrolled": false
   },
   "outputs": [
    {
     "data": {
      "text/plain": [
       "<matplotlib.axes._subplots.AxesSubplot at 0x18a751cb130>"
      ]
     },
     "execution_count": 55,
     "metadata": {},
     "output_type": "execute_result"
    },
    {
     "data": {
      "image/png": "[encoded data removed]",
      "text/plain": [
       "<Figure size 432x288 with 1 Axes>"
      ]
     },
     "metadata": {
      "needs_background": "light"
     },
     "output_type": "display_data"
    }
   ],
   "source": [
    "data[['Dis_sc_minmax', 'travel_CBD_minmax', 'Dis_hos_minmax', 'price_minmax']].plot(kind='box', rot=90, title='MinMax Normalization')"
   ]
  },
  {
   "cell_type": "code",
   "execution_count": 56,
   "metadata": {},
   "outputs": [
    {
     "data": {
      "text/plain": [
       "<matplotlib.axes._subplots.AxesSubplot at 0x18a752c7160>"
      ]
     },
     "execution_count": 56,
     "metadata": {},
     "output_type": "execute_result"
    },
    {
     "data": {
      "image/png": "[encoded data removed]",
      "text/plain": [
       "<Figure size 432x288 with 1 Axes>"
      ]
     },
     "metadata": {
      "needs_background": "light"
     },
     "output_type": "display_data"
    }
   ],
   "source": [
    "data[['Dis_sc_zscore', 'travel_CBD_zscore', 'Dis_hos_zscore', 'price_zscore']].plot(kind='box', rot=90, title='Z-Score Normalization')"
   ]
  },
  {
   "cell_type": "markdown",
   "metadata": {},
   "source": [
    "From the boxplots shown above we realise that the columns `price` and `Distance_to_hospital` have some outliers. Therefore, when we use **MinMax** the median of the data is below 0.2 and most of the data is under 0.6. Therefore, we can use **Z-Score** for these two columns. However with the other two columns: `Distance_to_sc` and `travel_min_to_CBD` we are going to use MinMax Normalization, as the data has no outliers and this transformation could give us more meaningful information."
   ]
  },
  {
   "cell_type": "code",
   "execution_count": 57,
   "metadata": {},
   "outputs": [],
   "source": [
    "data = data[['Dis_sc_minmax', 'travel_CBD_minmax', 'Dis_hos_zscore', 'price_zscore']]"
   ]
  },
  {
   "cell_type": "markdown",
   "metadata": {},
   "source": [
    "Finally, we rename the columns but with the new values"
   ]
  },
  {
   "cell_type": "code",
   "execution_count": 58,
   "metadata": {},
   "outputs": [
    {
     "name": "stderr",
     "output_type": "stream",
     "text": [
      "C:\\Users\\Ricardo Arias\\anaconda3\\lib\\site-packages\\pandas\\core\\frame.py:4125: SettingWithCopyWarning: \n",
      "A value is trying to be set on a copy of a slice from a DataFrame\n",
      "\n",
      "See the caveats in the documentation: https://pandas.pydata.org/pandas-docs/stable/user_guide/indexing.html#returning-a-view-versus-a-copy\n",
      "  return super().rename(\n"
     ]
    },
    {
     "data": {
      "text/html": [
       "<div>\n",
       "<style scoped>\n",
       "    .dataframe tbody tr th:only-of-type {\n",
       "        vertical-align: middle;\n",
       "    }\n",
       "\n",
       "    .dataframe tbody tr th {\n",
       "        vertical-align: top;\n",
       "    }\n",
       "\n",
       "    .dataframe thead th {\n",
       "        text-align: right;\n",
       "    }\n",
       "</style>\n",
       "<table border=\"1\" class=\"dataframe\">\n",
       "  <thead>\n",
       "    <tr style=\"text-align: right;\">\n",
       "      <th></th>\n",
       "      <th>Distance_to_sc</th>\n",
       "      <th>travel_min_to_CBD</th>\n",
       "      <th>Distance_to_hospital</th>\n",
       "      <th>price</th>\n",
       "    </tr>\n",
       "  </thead>\n",
       "  <tbody>\n",
       "    <tr>\n",
       "      <th>0</th>\n",
       "      <td>0.372643</td>\n",
       "      <td>0.905738</td>\n",
       "      <td>0.512855</td>\n",
       "      <td>-0.313932</td>\n",
       "    </tr>\n",
       "    <tr>\n",
       "      <th>1</th>\n",
       "      <td>0.635585</td>\n",
       "      <td>0.362016</td>\n",
       "      <td>-0.472481</td>\n",
       "      <td>0.060328</td>\n",
       "    </tr>\n",
       "    <tr>\n",
       "      <th>2</th>\n",
       "      <td>0.170209</td>\n",
       "      <td>0.459016</td>\n",
       "      <td>-0.446979</td>\n",
       "      <td>0.329299</td>\n",
       "    </tr>\n",
       "    <tr>\n",
       "      <th>3</th>\n",
       "      <td>0.042681</td>\n",
       "      <td>0.478393</td>\n",
       "      <td>-0.134450</td>\n",
       "      <td>-0.642183</td>\n",
       "    </tr>\n",
       "    <tr>\n",
       "      <th>4</th>\n",
       "      <td>0.033939</td>\n",
       "      <td>0.752279</td>\n",
       "      <td>3.517153</td>\n",
       "      <td>-0.224923</td>\n",
       "    </tr>\n",
       "  </tbody>\n",
       "</table>\n",
       "</div>"
      ],
      "text/plain": [
       "   Distance_to_sc  travel_min_to_CBD  Distance_to_hospital     price\n",
       "0        0.372643           0.905738              0.512855 -0.313932\n",
       "1        0.635585           0.362016             -0.472481  0.060328\n",
       "2        0.170209           0.459016             -0.446979  0.329299\n",
       "3        0.042681           0.478393             -0.134450 -0.642183\n",
       "4        0.033939           0.752279              3.517153 -0.224923"
      ]
     },
     "execution_count": 58,
     "metadata": {},
     "output_type": "execute_result"
    }
   ],
   "source": [
    "data.rename(columns={'Dis_sc_minmax': 'Distance_to_sc', 'travel_CBD_minmax': 'travel_min_to_CBD', \n",
    "                     'Dis_hos_zscore': 'Distance_to_hospital', 'price_zscore': 'price'}, inplace=True)\n",
    "data.head(5)"
   ]
  },
  {
   "cell_type": "markdown",
   "metadata": {},
   "source": [
    "### 7. Transformation of the data\n",
    "To build our model the relationship between the predictors and the value to predict must be linear. Therefore, we must find the correct transformation to each predcitor to find the linear correlation between variables as follows. To do this we are going to use a function to find the relationship by a graph.\n",
    "\n",
    "```python\n",
    "plt.scatter(x, y, color='blue')\n",
    "```"
   ]
  },
  {
   "cell_type": "markdown",
   "metadata": {},
   "source": [
    "#### 7.1 Price vs. Distance_to_sc\n",
    "From the dataframe `data` we proceed to find the linear relationship "
   ]
  },
  {
   "cell_type": "code",
   "execution_count": 59,
   "metadata": {
    "scrolled": true
   },
   "outputs": [
    {
     "data": {
      "text/plain": [
       "<matplotlib.collections.PathCollection at 0x18a75389910>"
      ]
     },
     "execution_count": 59,
     "metadata": {},
     "output_type": "execute_result"
    },
    {
     "data": {
      "image/png": "[encoded data removed]",
      "text/plain": [
       "<Figure size 432x288 with 1 Axes>"
      ]
     },
     "metadata": {
      "needs_background": "light"
     },
     "output_type": "display_data"
    }
   ],
   "source": [
    "x = data['Distance_to_sc']\n",
    "y = np.power(data['price'], 2)\n",
    "plt.scatter(x, y)"
   ]
  },
  {
   "cell_type": "markdown",
   "metadata": {},
   "source": [
    "With the following graph we find that $\\text{price}^2$ has a linear relationship with the Distance to Shopping Center\n",
    "\n",
    "\n",
    "#### 7.2 Price vs. Distance_to_hospital\n",
    "From the dataframe `data` we proceed to find the linear relationship "
   ]
  },
  {
   "cell_type": "code",
   "execution_count": 60,
   "metadata": {
    "scrolled": true
   },
   "outputs": [
    {
     "data": {
      "text/plain": [
       "<matplotlib.collections.PathCollection at 0x18a753dde20>"
      ]
     },
     "execution_count": 60,
     "metadata": {},
     "output_type": "execute_result"
    },
    {
     "data": {
      "image/png": "[encoded data removed]",
      "text/plain": [
       "<Figure size 432x288 with 1 Axes>"
      ]
     },
     "metadata": {
      "needs_background": "light"
     },
     "output_type": "display_data"
    }
   ],
   "source": [
    "x = data['Distance_to_hospital']\n",
    "y = np.power(data['price'], 2)\n",
    "plt.scatter(x, y)"
   ]
  },
  {
   "cell_type": "markdown",
   "metadata": {},
   "source": [
    "With the following graph we find that $\\text{price}^2$ has a linear relationship with $\\text{Distance to Hospital}$\n",
    "\n",
    "\n",
    "#### 7.2 Price vs. Travel_min_to_CBD\n",
    "From the dataframe `data` we proceed to find the linear relationship "
   ]
  },
  {
   "cell_type": "code",
   "execution_count": 61,
   "metadata": {},
   "outputs": [
    {
     "data": {
      "text/plain": [
       "<matplotlib.collections.PathCollection at 0x18a7543f3a0>"
      ]
     },
     "execution_count": 61,
     "metadata": {},
     "output_type": "execute_result"
    },
    {
     "data": {
      "image/png": "[encoded data removed]",
      "text/plain": [
       "<Figure size 432x288 with 1 Axes>"
      ]
     },
     "metadata": {
      "needs_background": "light"
     },
     "output_type": "display_data"
    }
   ],
   "source": [
    "x = data['travel_min_to_CBD']\n",
    "y = np.power(data['price'], 2)\n",
    "plt.scatter(x, y)"
   ]
  },
  {
   "cell_type": "markdown",
   "metadata": {},
   "source": [
    "With the following graph we find that $\\text{price}^2$ has a linear relationship with the Travel time to the CBD"
   ]
  },
  {
   "cell_type": "markdown",
   "metadata": {},
   "source": [
    "### 8. Linear Model\n",
    "Now that we have our transformations and the same scale in all the columns, we proceed to fit the model with the transformed variables in order to get the model with most reliability."
   ]
  },
  {
   "cell_type": "code",
   "execution_count": 62,
   "metadata": {},
   "outputs": [
    {
     "data": {
      "text/html": [
       "<div>\n",
       "<style scoped>\n",
       "    .dataframe tbody tr th:only-of-type {\n",
       "        vertical-align: middle;\n",
       "    }\n",
       "\n",
       "    .dataframe tbody tr th {\n",
       "        vertical-align: top;\n",
       "    }\n",
       "\n",
       "    .dataframe thead th {\n",
       "        text-align: right;\n",
       "    }\n",
       "</style>\n",
       "<table border=\"1\" class=\"dataframe\">\n",
       "  <thead>\n",
       "    <tr style=\"text-align: right;\">\n",
       "      <th></th>\n",
       "      <th>Distance_to_sc</th>\n",
       "      <th>travel_min_to_CBD</th>\n",
       "      <th>Distance_to_hospital</th>\n",
       "      <th>price_to_the_2</th>\n",
       "    </tr>\n",
       "  </thead>\n",
       "  <tbody>\n",
       "    <tr>\n",
       "      <th>0</th>\n",
       "      <td>0.372643</td>\n",
       "      <td>0.905738</td>\n",
       "      <td>0.512855</td>\n",
       "      <td>0.098553</td>\n",
       "    </tr>\n",
       "    <tr>\n",
       "      <th>1</th>\n",
       "      <td>0.635585</td>\n",
       "      <td>0.362016</td>\n",
       "      <td>-0.472481</td>\n",
       "      <td>0.003639</td>\n",
       "    </tr>\n",
       "    <tr>\n",
       "      <th>2</th>\n",
       "      <td>0.170209</td>\n",
       "      <td>0.459016</td>\n",
       "      <td>-0.446979</td>\n",
       "      <td>0.108438</td>\n",
       "    </tr>\n",
       "    <tr>\n",
       "      <th>3</th>\n",
       "      <td>0.042681</td>\n",
       "      <td>0.478393</td>\n",
       "      <td>-0.134450</td>\n",
       "      <td>0.412399</td>\n",
       "    </tr>\n",
       "    <tr>\n",
       "      <th>4</th>\n",
       "      <td>0.033939</td>\n",
       "      <td>0.752279</td>\n",
       "      <td>3.517153</td>\n",
       "      <td>0.050591</td>\n",
       "    </tr>\n",
       "  </tbody>\n",
       "</table>\n",
       "</div>"
      ],
      "text/plain": [
       "   Distance_to_sc  travel_min_to_CBD  Distance_to_hospital  price_to_the_2\n",
       "0        0.372643           0.905738              0.512855        0.098553\n",
       "1        0.635585           0.362016             -0.472481        0.003639\n",
       "2        0.170209           0.459016             -0.446979        0.108438\n",
       "3        0.042681           0.478393             -0.134450        0.412399\n",
       "4        0.033939           0.752279              3.517153        0.050591"
      ]
     },
     "execution_count": 62,
     "metadata": {},
     "output_type": "execute_result"
    }
   ],
   "source": [
    "model_df = data[['Distance_to_sc', 'travel_min_to_CBD', 'Distance_to_hospital']]\n",
    "model_df['price_to_the_2'] = np.power(data['price'], 2)\n",
    "model_df.head()"
   ]
  },
  {
   "cell_type": "markdown",
   "metadata": {},
   "source": [
    "To do this first we have to split the data frame `data` in two different data frames. The first one is `train` that is composed with the 70% of rows of `data` and will be used to train the model. The second one is `test` with the other 30% that will be used to test the model"
   ]
  },
  {
   "cell_type": "code",
   "execution_count": 63,
   "metadata": {},
   "outputs": [],
   "source": [
    "train = model_df.iloc[:int(round((len(model_df)*0.7),0))] # Train data set\n",
    "test = model_df.iloc[int(round((len(model_df)*0.7),0)):] # Test Data set\n",
    "true_label = test.price_to_the_2 # True label of the test data set\n",
    "test = test.drop('price_to_the_2', 1) # Delete the true label from the test data set"
   ]
  },
  {
   "cell_type": "code",
   "execution_count": 64,
   "metadata": {},
   "outputs": [
    {
     "name": "stdout",
     "output_type": "stream",
     "text": [
      "Coefficient of determination: 0.02\n"
     ]
    }
   ],
   "source": [
    "y_train = train['price_to_the_2'] # Attribute to predict\n",
    "x_train = train[['Distance_to_sc', 'travel_min_to_CBD', 'Distance_to_hospital']]\n",
    "\n",
    "model = LinearRegression().fit(x_train, y_train)\n",
    "pred_label =  model.predict(test)\n",
    "print('Coefficient of determination: %.2f'\n",
    "      % r2_score(true_label, pred_label))"
   ]
  },
  {
   "cell_type": "markdown",
   "metadata": {},
   "source": [
    "With the coefficient of determination equal to 0.02 we understandand that even though there is a linear relation between the variables and the $\\text{Price}^2$, there is no correlation between these variables to build the model. \n",
    "\n",
    "It could be because the price to the power of two is in most of the cases a value close to 0 so it looks like there is a linear relationship, but there is not. And that is why when we build our model it does not fit quite well"
   ]
  },
  {
   "cell_type": "markdown",
   "metadata": {},
   "source": [
    "## References"
   ]
  },
  {
   "cell_type": "markdown",
   "metadata": {},
   "source": [
    "[Import HTML file to Python](https://stackoverflow.com/questions/51794609/how-to-import-html-file-into-python-variable)\n",
    "\n",
    "[Tag removal in BeautifulSoup](https://stackoverflow.com/questions/15934562/beautifulsoup-tag-removal)\n",
    "\n",
    "[BeautifulSoup Documentation](https://www.crummy.com/software/BeautifulSoup/bs4/doc/)\n",
    "\n",
    "[Convert list to a dictionary](https://careerkarma.com/blog/python-convert-list-to-dictionary/#:~:text=Converting%20a%20list%20to%20a,the%20Python%20zip()%20function.)\n",
    "\n",
    "[Get the name of a tag BeautifulSoup](https://www.kite.com/python/examples/1702/beautifulsoup-get-the-name-of-a-tag)\n",
    "\n",
    "[Shapely Documentation](https://shapely.readthedocs.io/en/stable/manual.html)\n",
    "\n",
    "[Add columns to a pandas data frame with default value](https://www.interviewqs.com/ddi_code_snippets/add_new_col_df_default_value)\n",
    "\n",
    "[Iterating row by row in a pandas data frame](https://stackoverflow.com/questions/23330654/update-a-dataframe-in-pandas-while-iterating-row-by-row/29262040)\n",
    "\n",
    "[Sum multiple columns in pandas](https://stackoverflow.com/questions/43767905/how-to-sum-3-columns-panda-python)\n",
    "\n",
    "[Select rows with some condition in pandas](https://www.geeksforgeeks.org/selecting-rows-in-pandas-dataframe-based-on-conditions/)\n",
    "\n",
    "[Converting strings to datetime format](https://stackabuse.com/converting-strings-to-datetime-in-python/)\n",
    "\n",
    "[Convert timedelta to integers](https://stackoverflow.com/questions/5522031/convert-timedelta-to-total-seconds)\n",
    "\n",
    "[Resent index in a data frame in pandas](https://pandas.pydata.org/pandas-docs/stable/reference/api/pandas.DataFrame.reset_index.html)\n",
    "\n",
    "[Appending data frames to an empty data frame](https://stackoverflow.com/questions/16597265/appending-to-an-empty-dataframe-in-pandas)\n",
    "\n",
    "[Export data frames in Pandas to csv file](https://towardsdatascience.com/how-to-export-pandas-dataframe-to-csv-2038e43d9c03)\n",
    "\n",
    "[Drop NaN values of a row in a pandas data frame](https://pandas.pydata.org/pandas-docs/stable/reference/api/pandas.DataFrame.dropna.html)"
   ]
  }
 ],
 "metadata": {
  "kernelspec": {
   "display_name": "Python 3",
   "language": "python",
   "name": "python3"
  },
  "language_info": {
   "codemirror_mode": {
    "name": "ipython",
    "version": 3
   },
   "file_extension": ".py",
   "mimetype": "text/x-python",
   "name": "python",
   "nbconvert_exporter": "python",
   "pygments_lexer": "ipython3",
   "version": "3.8.3"
  }
 },
 "nbformat": 4,
 "nbformat_minor": 4
}
